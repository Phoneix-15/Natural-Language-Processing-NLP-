{
  "nbformat": 4,
  "nbformat_minor": 0,
  "metadata": {
    "colab": {
      "name": "Lesson4-IMDB(Next word prediction + Movie review classification).ipynb",
      "provenance": []
    },
    "kernelspec": {
      "name": "python3",
      "display_name": "Python 3"
    },
    "accelerator": "GPU"
  },
  "cells": [
    {
      "cell_type": "code",
      "metadata": {
        "id": "SzGP57VSz8IC",
        "colab_type": "code",
        "colab": {}
      },
      "source": [
        "%reload_ext autoreload\n",
        "%autoreload 2\n",
        "%matplotlib inline"
      ],
      "execution_count": 0,
      "outputs": []
    },
    {
      "cell_type": "code",
      "metadata": {
        "id": "WVM1f0BHz-2t",
        "colab_type": "code",
        "colab": {}
      },
      "source": [
        "from fastai.text import *\n",
        "from fastai import *\n",
        "import pandas as pd"
      ],
      "execution_count": 0,
      "outputs": []
    },
    {
      "cell_type": "code",
      "metadata": {
        "id": "WJozvjJl0JaK",
        "colab_type": "code",
        "outputId": "0dea14b2-750a-485c-f8c0-899f0857989c",
        "colab": {
          "base_uri": "https://localhost:8080/",
          "height": 50
        }
      },
      "source": [
        "path = untar_data(URLs.IMDB_SAMPLE)\n",
        "path.ls()"
      ],
      "execution_count": 0,
      "outputs": [
        {
          "output_type": "execute_result",
          "data": {
            "text/plain": [
              "[PosixPath('/root/.fastai/data/imdb_sample/texts.csv'),\n",
              " PosixPath('/root/.fastai/data/imdb_sample/data_save.pkl')]"
            ]
          },
          "metadata": {
            "tags": []
          },
          "execution_count": 3
        }
      ]
    },
    {
      "cell_type": "code",
      "metadata": {
        "id": "OPxGd0zY1DZ7",
        "colab_type": "code",
        "outputId": "f7301a08-ed5c-48eb-8096-72a540eede3a",
        "colab": {
          "base_uri": "https://localhost:8080/",
          "height": 195
        }
      },
      "source": [
        "df = pd.read_csv(path/'texts.csv')\n",
        "df.head()"
      ],
      "execution_count": 0,
      "outputs": [
        {
          "output_type": "execute_result",
          "data": {
            "text/html": [
              "<div>\n",
              "<style scoped>\n",
              "    .dataframe tbody tr th:only-of-type {\n",
              "        vertical-align: middle;\n",
              "    }\n",
              "\n",
              "    .dataframe tbody tr th {\n",
              "        vertical-align: top;\n",
              "    }\n",
              "\n",
              "    .dataframe thead th {\n",
              "        text-align: right;\n",
              "    }\n",
              "</style>\n",
              "<table border=\"1\" class=\"dataframe\">\n",
              "  <thead>\n",
              "    <tr style=\"text-align: right;\">\n",
              "      <th></th>\n",
              "      <th>label</th>\n",
              "      <th>text</th>\n",
              "      <th>is_valid</th>\n",
              "    </tr>\n",
              "  </thead>\n",
              "  <tbody>\n",
              "    <tr>\n",
              "      <th>0</th>\n",
              "      <td>negative</td>\n",
              "      <td>Un-bleeping-believable! Meg Ryan doesn't even ...</td>\n",
              "      <td>False</td>\n",
              "    </tr>\n",
              "    <tr>\n",
              "      <th>1</th>\n",
              "      <td>positive</td>\n",
              "      <td>This is a extremely well-made film. The acting...</td>\n",
              "      <td>False</td>\n",
              "    </tr>\n",
              "    <tr>\n",
              "      <th>2</th>\n",
              "      <td>negative</td>\n",
              "      <td>Every once in a long while a movie will come a...</td>\n",
              "      <td>False</td>\n",
              "    </tr>\n",
              "    <tr>\n",
              "      <th>3</th>\n",
              "      <td>positive</td>\n",
              "      <td>Name just says it all. I watched this movie wi...</td>\n",
              "      <td>False</td>\n",
              "    </tr>\n",
              "    <tr>\n",
              "      <th>4</th>\n",
              "      <td>negative</td>\n",
              "      <td>This movie succeeds at being one of the most u...</td>\n",
              "      <td>False</td>\n",
              "    </tr>\n",
              "  </tbody>\n",
              "</table>\n",
              "</div>"
            ],
            "text/plain": [
              "      label                                               text  is_valid\n",
              "0  negative  Un-bleeping-believable! Meg Ryan doesn't even ...     False\n",
              "1  positive  This is a extremely well-made film. The acting...     False\n",
              "2  negative  Every once in a long while a movie will come a...     False\n",
              "3  positive  Name just says it all. I watched this movie wi...     False\n",
              "4  negative  This movie succeeds at being one of the most u...     False"
            ]
          },
          "metadata": {
            "tags": []
          },
          "execution_count": 4
        }
      ]
    },
    {
      "cell_type": "code",
      "metadata": {
        "id": "3aQa1GLV1i39",
        "colab_type": "code",
        "outputId": "0c8c3d62-7306-4b6e-f515-7d09d20ea403",
        "colab": {
          "base_uri": "https://localhost:8080/",
          "height": 54
        }
      },
      "source": [
        "df['text'][1]"
      ],
      "execution_count": 0,
      "outputs": [
        {
          "output_type": "execute_result",
          "data": {
            "text/plain": [
              "'This is a extremely well-made film. The acting, script and camera-work are all first-rate. The music is good, too, though it is mostly early in the film, when things are still relatively cheery. There are no really superstars in the cast, though several faces will be familiar. The entire cast does an excellent job with the script.<br /><br />But it is hard to watch, because there is no good end to a situation like the one presented. It is now fashionable to blame the British for setting Hindus and Muslims against each other, and then cruelly separating them into two countries. There is some merit in this view, but it\\'s also true that no one forced Hindus and Muslims in the region to mistreat each other as they did around the time of partition. It seems more likely that the British simply saw the tensions between the religions and were clever enough to exploit them to their own ends.<br /><br />The result is that there is much cruelty and inhumanity in the situation and this is very unpleasant to remember and to see on the screen. But it is never painted as a black-and-white case. There is baseness and nobility on both sides, and also the hope for change in the younger generation.<br /><br />There is redemption of a sort, in the end, when Puro has to make a hard choice between a man who has ruined her life, but also truly loved her, and her family which has disowned her, then later come looking for her. But by that point, she has no option that is without great pain for her.<br /><br />This film carries the message that both Muslims and Hindus have their grave faults, and also that both can be dignified and caring people. The reality of partition makes that realisation all the more wrenching, since there can never be real reconciliation across the India/Pakistan border. In that sense, it is similar to \"Mr & Mrs Iyer\".<br /><br />In the end, we were glad to have seen the film, even though the resolution was heartbreaking. If the UK and US could deal with their own histories of racism with this kind of frankness, they would certainly be better off.'"
            ]
          },
          "metadata": {
            "tags": []
          },
          "execution_count": 5
        }
      ]
    },
    {
      "cell_type": "code",
      "metadata": {
        "id": "IKYr4Qa01-S_",
        "colab_type": "code",
        "colab": {}
      },
      "source": [
        "data_lm = TextDataBunch.from_csv(path, 'texts.csv')"
      ],
      "execution_count": 0,
      "outputs": []
    },
    {
      "cell_type": "markdown",
      "metadata": {
        "id": "oR22ojwl2h4X",
        "colab_type": "text"
      },
      "source": [
        "By executing this line a process was launched that took a bit of time. Let's dig a bit into it. Images could be fed (almost) directly into a model because they're just a big array of pixel values that are floats between 0 and 1. A text is composed of words, and we can't apply mathematical functions to them directly. We first have to convert them to numbers. This is done in two differents steps: tokenization and numericalization. A TextDataBunch does all of that behind the scenes for you.\n",
        "\n",
        "Before we delve into the explanations, let's take the time to save the things that were calculated."
      ]
    },
    {
      "cell_type": "code",
      "metadata": {
        "id": "LDWSqI4o2HnA",
        "colab_type": "code",
        "colab": {}
      },
      "source": [
        "data_lm.save()"
      ],
      "execution_count": 0,
      "outputs": []
    },
    {
      "cell_type": "code",
      "metadata": {
        "id": "zySjRTl52bb6",
        "colab_type": "code",
        "colab": {}
      },
      "source": [
        "data = load_data(path)"
      ],
      "execution_count": 0,
      "outputs": []
    },
    {
      "cell_type": "markdown",
      "metadata": {
        "id": "-y8j6TXu2yHt",
        "colab_type": "text"
      },
      "source": [
        "#**Tokenization**"
      ]
    },
    {
      "cell_type": "code",
      "metadata": {
        "id": "kbyT1PIP2vXe",
        "colab_type": "code",
        "outputId": "bbc42684-0e4f-48e4-fb03-995b747c991b",
        "colab": {
          "base_uri": "https://localhost:8080/",
          "height": 279
        }
      },
      "source": [
        "data = TextClasDataBunch.from_csv(path, 'texts.csv')\n",
        "data.show_batch()"
      ],
      "execution_count": 0,
      "outputs": [
        {
          "output_type": "display_data",
          "data": {
            "text/html": [
              "<table border=\"1\" class=\"dataframe\">\n",
              "  <thead>\n",
              "    <tr style=\"text-align: right;\">\n",
              "      <th>text</th>\n",
              "      <th>target</th>\n",
              "    </tr>\n",
              "  </thead>\n",
              "  <tbody>\n",
              "    <tr>\n",
              "      <td>xxbos xxmaj raising xxmaj victor xxmaj vargas : a xxmaj review \\n \\n  xxmaj you know , xxmaj raising xxmaj victor xxmaj vargas is like sticking your hands into a big , steaming bowl of xxunk . xxmaj it 's warm and gooey , but you 're not sure if it feels right . xxmaj try as i might , no matter how warm and gooey xxmaj raising xxmaj</td>\n",
              "      <td>negative</td>\n",
              "    </tr>\n",
              "    <tr>\n",
              "      <td>xxbos xxup the xxup shop xxup around xxup the xxup corner is one of the sweetest and most feel - good romantic comedies ever made . xxmaj there 's just no getting around that , and it 's hard to actually put one 's feeling for this film into words . xxmaj it 's not one of those films that tries too hard , nor does it come up with</td>\n",
              "      <td>positive</td>\n",
              "    </tr>\n",
              "    <tr>\n",
              "      <td>xxbos xxmaj now that xxmaj che(2008 ) has finished its relatively short xxmaj australian cinema run ( extremely limited xxunk screen in xxmaj xxunk , after xxunk ) , i can xxunk join both xxunk of \" xxmaj at xxmaj the xxmaj movies \" in taking xxmaj steven xxmaj soderbergh to task . \\n \\n  xxmaj it 's usually satisfying to watch a film director change his style /</td>\n",
              "      <td>negative</td>\n",
              "    </tr>\n",
              "    <tr>\n",
              "      <td>xxbos xxmaj this film sat on my xxmaj tivo for weeks before i watched it . i dreaded a self - indulgent xxunk flick about relationships gone bad . i was wrong ; this was an xxunk xxunk into the screwed - up xxunk of xxmaj new xxmaj yorkers . \\n \\n  xxmaj the format is the same as xxmaj max xxmaj xxunk ' \" xxmaj la xxmaj ronde</td>\n",
              "      <td>positive</td>\n",
              "    </tr>\n",
              "    <tr>\n",
              "      <td>xxbos xxmaj many neglect that this is n't just a classic due to the fact that it 's the first xxup 3d game , or even the first xxunk - up . xxmaj it 's also one of the first stealth games , one of the xxunk definitely the first ) truly claustrophobic games , and just a pretty well - xxunk gaming experience in general . xxmaj with graphics</td>\n",
              "      <td>positive</td>\n",
              "    </tr>\n",
              "  </tbody>\n",
              "</table>"
            ],
            "text/plain": [
              "<IPython.core.display.HTML object>"
            ]
          },
          "metadata": {
            "tags": []
          }
        }
      ]
    },
    {
      "cell_type": "markdown",
      "metadata": {
        "id": "NqDDY36e9HQO",
        "colab_type": "text"
      },
      "source": [
        "#**Numericalization**:-\n",
        "Once we have extracted tokens from our texts, we convert to integers by creating a list of all the words used. We only keep the ones that appear at least twice with a maximum vocabulary size of 60,000 (by default) and replace the ones that don't make the cut by the unknown token UNK.\n",
        "\n",
        "The correspondance from ids to tokens is stored in the vocab attribute of our datasets, in a dictionary called itos (for int to string)."
      ]
    },
    {
      "cell_type": "code",
      "metadata": {
        "id": "ZOx1SPRC8zAX",
        "colab_type": "code",
        "outputId": "96c4c085-9e7b-4350-b529-65b5b31d9ab3",
        "colab": {
          "base_uri": "https://localhost:8080/",
          "height": 185
        }
      },
      "source": [
        "data.vocab.itos[:10]"
      ],
      "execution_count": 0,
      "outputs": [
        {
          "output_type": "execute_result",
          "data": {
            "text/plain": [
              "['xxunk',\n",
              " 'xxpad',\n",
              " 'xxbos',\n",
              " 'xxeos',\n",
              " 'xxfld',\n",
              " 'xxmaj',\n",
              " 'xxup',\n",
              " 'xxrep',\n",
              " 'xxwrep',\n",
              " 'the']"
            ]
          },
          "metadata": {
            "tags": []
          },
          "execution_count": 10
        }
      ]
    },
    {
      "cell_type": "code",
      "metadata": {
        "id": "FJf8bgrM9aRI",
        "colab_type": "code",
        "outputId": "392dc9a1-1414-41dd-d5b0-154a649ad155",
        "colab": {
          "base_uri": "https://localhost:8080/",
          "height": 188
        }
      },
      "source": [
        "data.train_ds[0][0]"
      ],
      "execution_count": 0,
      "outputs": [
        {
          "output_type": "execute_result",
          "data": {
            "text/plain": [
              "Text xxbos \" xxmaj deliverance \" is one of the best exploitation films to come out of that wonderful 1970 's decade from whence so many other exploitation films came . \n",
              " \n",
              "  a group of friends sets out on a xxunk trip down a river in the south and they become victimized by a bunch of toothless xxunk who pretty much try to ruin their lives . xxmaj it 's awesome . \n",
              " \n",
              "  xxmaj we are treated to anal rape , vicious beatings , bow and arrow killings , shootings , broken bones , etc ... a lot like 1974 's \" xxmaj texas xxmaj chainsaw xxmaj massacre , \" to say that \" xxmaj deliverance \" is believable would be immature . xxmaj this would never and could never happen , even in the dark ages of 1972 . \n",
              " \n",
              "  \" xxmaj deliverance \" is a very entertaining ride and packed full of action . xxmaj it is one in a huge pile of exploitation films to come from the early 70 's and it ( xxunk ) sits on top of that pile with it 's great acting , superb cinematography and excellent writing . \n",
              " \n",
              "  8 out of 10 , kids ."
            ]
          },
          "metadata": {
            "tags": []
          },
          "execution_count": 11
        }
      ]
    },
    {
      "cell_type": "markdown",
      "metadata": {
        "id": "YSptG5ej0E1v",
        "colab_type": "text"
      },
      "source": [
        "But the underlying text is all numbers"
      ]
    },
    {
      "cell_type": "code",
      "metadata": {
        "id": "kW8tO6ab9fgk",
        "colab_type": "code",
        "outputId": "bc561bff-1860-47cc-a592-d851fb5e6e71",
        "colab": {
          "base_uri": "https://localhost:8080/",
          "height": 34
        }
      },
      "source": [
        "data.train_ds[0][0].data[:10]"
      ],
      "execution_count": 0,
      "outputs": [
        {
          "output_type": "execute_result",
          "data": {
            "text/plain": [
              "array([   2,   22,    5, 3791,   22,   16,   44,   14,    9,  142])"
            ]
          },
          "metadata": {
            "tags": []
          },
          "execution_count": 12
        }
      ]
    },
    {
      "cell_type": "markdown",
      "metadata": {
        "id": "QJHR3ucj0kAv",
        "colab_type": "text"
      },
      "source": [
        "# **WITH DATABLOCK API**\n",
        "We can use the data block API with NLP and have a lot more flexibility than what the default factory methods offer. In the previous example for instance, the data was randomly split between train and validation instead of reading the third column of the csv.\n",
        "\n",
        "With the data block API though, we have to manually call the tokenize and numericalize steps. This allows more flexibility, and if you're not using the defaults from fastai, the various arguments to pass will appear in the step they're revelant, so it'll be more readable."
      ]
    },
    {
      "cell_type": "code",
      "metadata": {
        "id": "33lR42Fq0KxD",
        "colab_type": "code",
        "colab": {}
      },
      "source": [
        "data = (TextList.from_csv(path, 'texts.csv', cols='text')\n",
        "                .split_from_df(col=2)\n",
        "                .label_from_df(cols=0)\n",
        "                .databunch())"
      ],
      "execution_count": 0,
      "outputs": []
    },
    {
      "cell_type": "markdown",
      "metadata": {
        "id": "CI5UGyoP1LpH",
        "colab_type": "text"
      },
      "source": [
        "#**LANGUAGE MODEL**"
      ]
    },
    {
      "cell_type": "code",
      "metadata": {
        "id": "BVfALDK91ANJ",
        "colab_type": "code",
        "colab": {}
      },
      "source": [
        "#Language model can use a lot of GPU. Hence reduce the batch size\n",
        "bs = 48"
      ],
      "execution_count": 0,
      "outputs": []
    },
    {
      "cell_type": "code",
      "metadata": {
        "id": "ulqOG-3V1e38",
        "colab_type": "code",
        "outputId": "ecaa4436-3215-4ec5-87ca-6c123cf73847",
        "colab": {
          "base_uri": "https://localhost:8080/",
          "height": 134
        }
      },
      "source": [
        "#Now lets grab the whole dataset\n",
        "path = untar_data(URLs.IMDB)\n",
        "path.ls()"
      ],
      "execution_count": 0,
      "outputs": [
        {
          "output_type": "execute_result",
          "data": {
            "text/plain": [
              "[PosixPath('/root/.fastai/data/imdb/unsup'),\n",
              " PosixPath('/root/.fastai/data/imdb/imdb.vocab'),\n",
              " PosixPath('/root/.fastai/data/imdb/tmp_lm'),\n",
              " PosixPath('/root/.fastai/data/imdb/test'),\n",
              " PosixPath('/root/.fastai/data/imdb/README'),\n",
              " PosixPath('/root/.fastai/data/imdb/tmp_clas'),\n",
              " PosixPath('/root/.fastai/data/imdb/train')]"
            ]
          },
          "metadata": {
            "tags": []
          },
          "execution_count": 15
        }
      ]
    },
    {
      "cell_type": "code",
      "metadata": {
        "id": "14U7xnIL2P5k",
        "colab_type": "code",
        "outputId": "2fcc7485-99ac-41ee-f459-243fb4ec20ed",
        "colab": {
          "base_uri": "https://localhost:8080/",
          "height": 84
        }
      },
      "source": [
        "(path/'train').ls()"
      ],
      "execution_count": 0,
      "outputs": [
        {
          "output_type": "execute_result",
          "data": {
            "text/plain": [
              "[PosixPath('/root/.fastai/data/imdb/train/neg'),\n",
              " PosixPath('/root/.fastai/data/imdb/train/unsupBow.feat'),\n",
              " PosixPath('/root/.fastai/data/imdb/train/labeledBow.feat'),\n",
              " PosixPath('/root/.fastai/data/imdb/train/pos')]"
            ]
          },
          "metadata": {
            "tags": []
          },
          "execution_count": 17
        }
      ]
    },
    {
      "cell_type": "markdown",
      "metadata": {
        "id": "iVFHmjGd3yBW",
        "colab_type": "text"
      },
      "source": [
        "The reviews are in a training and test set following an imagenet structure. The only difference is that there is an unsup folder on top of train and test that contains the unlabelled data.\n",
        "\n",
        "We're not going to train a model that classifies the reviews from scratch. Like in computer vision, we'll use a model pretrained on a bigger dataset (a cleaned subset of wikipedia called wikitext-103). That model has been trained to guess what the next word is, its input being all the previous words. It has a recurrent structure and a hidden state that is updated each time it sees a new word. This hidden state thus contains information about the sentence up to that point.\n",
        "\n",
        "We are going to use that 'knowledge' of the English language to build our classifier, but first, like for computer vision, we need to fine-tune the pretrained model to our particular dataset. Because the English of the reviews left by people on IMDB isn't the same as the English of wikipedia, we'll need to adjust the parameters of our model by a little bit. Plus there might be some words that would be extremely common in the reviews dataset but would be barely present in wikipedia, and therefore might not be part of the vocabulary the model was trained on.\n",
        "\n",
        "This is where the unlabelled data is going to be useful to us, as we can use it to fine-tune our model. Let's create our data object with the data block API (next line takes a few minutes)."
      ]
    },
    {
      "cell_type": "code",
      "metadata": {
        "id": "qjpRPew43skk",
        "colab_type": "code",
        "colab": {}
      },
      "source": [
        "data_lm = (TextList.from_folder(path)\n",
        "           #Inputs: all the text files in path\n",
        "            .filter_by_folder(include=['train', 'test', 'unsup']) \n",
        "           #We may have other temp folders that contain text files so we only keep what's in train and test\n",
        "            .split_by_rand_pct(0.1)\n",
        "           #We randomly split and keep 10% (10,000 reviews) for validation\n",
        "            .label_for_lm()           \n",
        "           #We want to do a language model so we label accordingly\n",
        "            .databunch(bs=bs))\n",
        "data_lm.save('data_lm.pkl')"
      ],
      "execution_count": 0,
      "outputs": []
    },
    {
      "cell_type": "code",
      "metadata": {
        "id": "kMoX_FQ-4S8K",
        "colab_type": "code",
        "colab": {}
      },
      "source": [
        "data_lm = load_data(path, 'data_lm.pkl', bs=bs)"
      ],
      "execution_count": 0,
      "outputs": []
    },
    {
      "cell_type": "code",
      "metadata": {
        "id": "hCv2-usW4lLb",
        "colab_type": "code",
        "outputId": "6aa9a09e-55b4-43c6-80ee-a12b9662ec91",
        "colab": {
          "base_uri": "https://localhost:8080/",
          "height": 279
        }
      },
      "source": [
        "data_lm.show_batch()"
      ],
      "execution_count": 0,
      "outputs": [
        {
          "output_type": "display_data",
          "data": {
            "text/html": [
              "<table border=\"1\" class=\"dataframe\">\n",
              "  <thead>\n",
              "    <tr style=\"text-align: right;\">\n",
              "      <th>idx</th>\n",
              "      <th>text</th>\n",
              "    </tr>\n",
              "  </thead>\n",
              "  <tbody>\n",
              "    <tr>\n",
              "      <td>0</td>\n",
              "      <td>him of his son . xxmaj this kid seems to be xxup ok , but he has a troubled past . xxmaj he will be released in a few weeks and xxmaj hunter must find out if that is correct . xxmaj we as viewers no pretty soon , that it is not and hope that xxmaj hunter finds out before the deadline as well ... \\n \\n  xxmaj</td>\n",
              "    </tr>\n",
              "    <tr>\n",
              "      <td>1</td>\n",
              "      <td>tex xxmaj ritter and xxmaj milli xxmaj xxunk . xxmaj jerry , for a good many reasons , does his best to destroy xxmaj tom 's romantic intentions ( hey , what are \" friends \" for ? ) and largely succeeds . xxmaj at cartoon 's end , we leave amid the strains of another musical interlude and a twisted variation on an old cliche of the western genre</td>\n",
              "    </tr>\n",
              "    <tr>\n",
              "      <td>2</td>\n",
              "      <td>be xxmaj gulliver . xxmaj it actually might have worked better . xxmaj instead they chose to use a process that the xxmaj fleischer 's , xxmaj max and xxmaj dave invented called xxmaj rotoscope where they film an actor and trace his features into animation . xxmaj sam xxmaj parker is the voice and features of xxmaj gulliver . xxmaj longtime xxmaj disney xxmaj pinto xxmaj colvig , best</td>\n",
              "    </tr>\n",
              "    <tr>\n",
              "      <td>3</td>\n",
              "      <td>for the cool . xxmaj in fact , he is kind of an annoying brat that you 'd like to smack over the head . xxmaj especially if you 're a cop trying to get him to court and bullets are flying at you . xxmaj this refreshing approach breathes a sort of life into the movie and the film moves even farther from \" goofy action movie \" category</td>\n",
              "    </tr>\n",
              "    <tr>\n",
              "      <td>4</td>\n",
              "      <td>is even recommended book for elementary school children , so if you find the book version , do n't hesitate to buy it . xxmaj for smaller kids the comic book is available also . xxmaj have fun with the book or xxup vhs / xxup dvd as well :) xxbos xxmaj this is a tough one to review . xxmaj there are bits and pieces that are really striking</td>\n",
              "    </tr>\n",
              "  </tbody>\n",
              "</table>"
            ],
            "text/plain": [
              "<IPython.core.display.HTML object>"
            ]
          },
          "metadata": {
            "tags": []
          }
        }
      ]
    },
    {
      "cell_type": "code",
      "metadata": {
        "id": "rYCXwUQU561X",
        "colab_type": "code",
        "colab": {}
      },
      "source": [
        "learn = language_model_learner(data_lm, AWD_LSTM, drop_mult=0.3)"
      ],
      "execution_count": 0,
      "outputs": []
    },
    {
      "cell_type": "code",
      "metadata": {
        "id": "YbLYyaX-6Kw0",
        "colab_type": "code",
        "outputId": "619d175e-e4d2-4475-b6ad-ac47345d8692",
        "colab": {
          "base_uri": "https://localhost:8080/",
          "height": 34
        }
      },
      "source": [
        "learn.lr_find()"
      ],
      "execution_count": 0,
      "outputs": [
        {
          "output_type": "display_data",
          "data": {
            "text/html": [
              ""
            ],
            "text/plain": [
              "<IPython.core.display.HTML object>"
            ]
          },
          "metadata": {
            "tags": []
          }
        },
        {
          "output_type": "stream",
          "text": [
            "LR Finder is complete, type {learner_name}.recorder.plot() to see the graph.\n"
          ],
          "name": "stdout"
        }
      ]
    },
    {
      "cell_type": "code",
      "metadata": {
        "id": "q7KG2Bpy6REp",
        "colab_type": "code",
        "outputId": "ef9fe5bf-44af-4f9d-c789-1aaa7ac898a2",
        "colab": {
          "base_uri": "https://localhost:8080/",
          "height": 317
        }
      },
      "source": [
        "learn.recorder.plot(skip_end=15,suggestion=True)"
      ],
      "execution_count": 0,
      "outputs": [
        {
          "output_type": "stream",
          "text": [
            "Min numerical gradient: 3.31E-02\n",
            "Min loss divided by 10: 6.92E-03\n"
          ],
          "name": "stdout"
        },
        {
          "output_type": "display_data",
          "data": {
            "image/png": "[encoded data removed]",
            "text/plain": [
              "<Figure size 432x288 with 1 Axes>"
            ]
          },
          "metadata": {
            "tags": []
          }
        }
      ]
    },
    {
      "cell_type": "code",
      "metadata": {
        "id": "KJ-JajH36d6f",
        "colab_type": "code",
        "outputId": "533f0e94-d15d-452e-aa2e-662553e17886",
        "colab": {
          "base_uri": "https://localhost:8080/",
          "height": 77
        }
      },
      "source": [
        "learn.fit_one_cycle(1, 1e-2, moms=(0.8,0.7)) "
      ],
      "execution_count": 0,
      "outputs": [
        {
          "output_type": "display_data",
          "data": {
            "text/html": [
              "<table border=\"1\" class=\"dataframe\">\n",
              "  <thead>\n",
              "    <tr style=\"text-align: left;\">\n",
              "      <th>epoch</th>\n",
              "      <th>train_loss</th>\n",
              "      <th>valid_loss</th>\n",
              "      <th>accuracy</th>\n",
              "      <th>time</th>\n",
              "    </tr>\n",
              "  </thead>\n",
              "  <tbody>\n",
              "    <tr>\n",
              "      <td>0</td>\n",
              "      <td>4.161420</td>\n",
              "      <td>4.019917</td>\n",
              "      <td>0.296347</td>\n",
              "      <td>1:29:35</td>\n",
              "    </tr>\n",
              "  </tbody>\n",
              "</table>"
            ],
            "text/plain": [
              "<IPython.core.display.HTML object>"
            ]
          },
          "metadata": {
            "tags": []
          }
        }
      ]
    },
    {
      "cell_type": "code",
      "metadata": {
        "id": "Vw30tR83_wCp",
        "colab_type": "code",
        "colab": {}
      },
      "source": [
        "learn.save('fit_head')"
      ],
      "execution_count": 0,
      "outputs": []
    },
    {
      "cell_type": "code",
      "metadata": {
        "id": "b0sDBT0JUilq",
        "colab_type": "code",
        "colab": {}
      },
      "source": [
        "learn.load('fit_head')"
      ],
      "execution_count": 0,
      "outputs": []
    },
    {
      "cell_type": "code",
      "metadata": {
        "id": "Teq6JhavUqDN",
        "colab_type": "code",
        "outputId": "4953e220-4c73-4092-a4b2-f97c8e071a8c",
        "colab": {
          "base_uri": "https://localhost:8080/",
          "height": 70
        }
      },
      "source": [
        "TEXT = \"I liked this movie because\"\n",
        "N_WORDS = 40\n",
        "N_SENTENCES = 2\n",
        "print(\"\\n\".join(learn.predict(TEXT, N_WORDS, temperature=0.75) for _ in range(N_SENTENCES)))"
      ],
      "execution_count": 0,
      "outputs": [
        {
          "output_type": "stream",
          "text": [
            "I liked this movie because it was so good i was better at watching it than the Hollywood movie i missed in Holland . i was very disappointed with a lot of movies that i had done know dozens of times in all\n",
            "I liked this movie because it was a good story . It was a very good movie , but i think it is a perfect movie , so i was pleasantly surprised by the remake . i saw it in Austin Powers\n"
          ],
          "name": "stdout"
        }
      ]
    },
    {
      "cell_type": "code",
      "metadata": {
        "id": "JuccDNgvUx4p",
        "colab_type": "code",
        "colab": {}
      },
      "source": [
        "learn.save_encoder('fit_head_enc')"
      ],
      "execution_count": 0,
      "outputs": []
    },
    {
      "cell_type": "markdown",
      "metadata": {
        "id": "OH4sopHvVTv9",
        "colab_type": "text"
      },
      "source": [
        "#**Classifier**"
      ]
    },
    {
      "cell_type": "code",
      "metadata": {
        "id": "eWYkVZcbVMIQ",
        "colab_type": "code",
        "colab": {}
      },
      "source": [
        "path = untar_data(URLs.IMDB)"
      ],
      "execution_count": 0,
      "outputs": []
    },
    {
      "cell_type": "code",
      "metadata": {
        "id": "qlGcvg0eVY5s",
        "colab_type": "code",
        "colab": {}
      },
      "source": [
        "data_clas = (TextList.from_folder(path, vocab=data_lm.vocab)\n",
        "             #grab all the text files in path\n",
        "             .split_by_folder(valid='test')\n",
        "             #split by train and valid folder (that only keeps 'train' and 'test' so no need to filter)\n",
        "             .label_from_folder(classes=['neg', 'pos'])\n",
        "             #label them all with their folders\n",
        "             .databunch(bs=bs))\n",
        "\n",
        "data_clas.save('data_clas.pkl')"
      ],
      "execution_count": 0,
      "outputs": []
    },
    {
      "cell_type": "code",
      "metadata": {
        "id": "I-LNXi7rVgss",
        "colab_type": "code",
        "outputId": "2fa5bab3-d4a1-4acc-ea26-a179f1f91866",
        "colab": {
          "base_uri": "https://localhost:8080/",
          "height": 279
        }
      },
      "source": [
        "data_clas = load_data(path, 'data_clas.pkl', bs=bs)\n",
        "data_clas.show_batch()"
      ],
      "execution_count": 0,
      "outputs": [
        {
          "output_type": "display_data",
          "data": {
            "text/html": [
              "<table border=\"1\" class=\"dataframe\">\n",
              "  <thead>\n",
              "    <tr style=\"text-align: right;\">\n",
              "      <th>text</th>\n",
              "      <th>target</th>\n",
              "    </tr>\n",
              "  </thead>\n",
              "  <tbody>\n",
              "    <tr>\n",
              "      <td>xxbos xxmaj match 1 : xxmaj tag xxmaj team xxmaj table xxmaj match xxmaj bubba xxmaj ray and xxmaj spike xxmaj dudley vs xxmaj eddie xxmaj guerrero and xxmaj chris xxmaj benoit xxmaj bubba xxmaj ray and xxmaj spike xxmaj dudley started things off with a xxmaj tag xxmaj team xxmaj table xxmaj match against xxmaj eddie xxmaj guerrero and xxmaj chris xxmaj benoit . xxmaj according to the rules</td>\n",
              "      <td>pos</td>\n",
              "    </tr>\n",
              "    <tr>\n",
              "      <td>xxbos * * * xxmaj warning - this review contains \" plot spoilers , \" though nothing could \" spoil \" this movie any more than it already is . xxmaj it really xxup is that bad . * * * \\n \\n  xxmaj before i begin , i 'd like to let everyone know that this definitely is one of those so - incredibly - bad - that</td>\n",
              "      <td>neg</td>\n",
              "    </tr>\n",
              "    <tr>\n",
              "      <td>xxbos i thought that xxup rotj was clearly the best out of the three xxmaj star xxmaj wars movies . i find it surprising that xxup rotj is considered the weakest installment in the xxmaj trilogy by many who have voted . xxmaj to me it seemed like xxup rotj was the best because it had the most profound plot , the most suspense , surprises , most xxunk the</td>\n",
              "      <td>pos</td>\n",
              "    </tr>\n",
              "    <tr>\n",
              "      <td>xxbos i 've rented and watched this movie for the 1st time on xxup dvd without reading any reviews about it . xxmaj so , after 15 minutes of watching i 've noticed that something is wrong with this movie ; it 's xxup terrible ! i mean , in the trailers it looked scary and serious ! \\n \\n  i think that xxmaj eli xxmaj roth ( xxmaj</td>\n",
              "      <td>neg</td>\n",
              "    </tr>\n",
              "    <tr>\n",
              "      <td>xxbos xxmaj on xxmaj sunday xxmaj july 27 , 1997 , the first episode of a new science fiction series called \" xxmaj stargate xxup sg-1 \" was broadcast on xxmaj showtime . a spin - off of and sequel to the 1994 film \" xxmaj stargate \" starring xxmaj kurt xxmaj russell and xxmaj james xxmaj spader , the series begins approximately one year after the events portrayed in</td>\n",
              "      <td>pos</td>\n",
              "    </tr>\n",
              "  </tbody>\n",
              "</table>"
            ],
            "text/plain": [
              "<IPython.core.display.HTML object>"
            ]
          },
          "metadata": {
            "tags": []
          }
        }
      ]
    },
    {
      "cell_type": "markdown",
      "metadata": {
        "id": "3uGomIaIWSUn",
        "colab_type": "text"
      },
      "source": [
        "We can then create a model to classify those reviews and load the encoder we saved earlier \n"
      ]
    },
    {
      "cell_type": "code",
      "metadata": {
        "id": "MTX7FYGyWGzo",
        "colab_type": "code",
        "outputId": "1419cf33-7338-4de4-f01d-4c01c9c050c4",
        "colab": {
          "base_uri": "https://localhost:8080/",
          "height": 1000
        }
      },
      "source": [
        "learn = text_classifier_learner(data_clas, AWD_LSTM, drop_mult=0.5)\n",
        "learn.load_encoder('fit_head_enc')"
      ],
      "execution_count": 0,
      "outputs": [
        {
          "output_type": "execute_result",
          "data": {
            "text/plain": [
              "RNNLearner(data=TextClasDataBunch;\n",
              "\n",
              "Train: LabelList (25000 items)\n",
              "x: TextList\n",
              "xxbos xxmaj this must be one of the most overrated xxmaj spanish films in history . xxmaj its lack of subtlety and complexity and its total political correction make it really childish , with only good / bad characters . xxmaj the world is just not like this , and good movies show complex characters with opposite impulses , dilemmas , etc . xxmaj however , what i xxup hate most about this film is xxmaj xxunk 's friend 's father . xxmaj the director tries to teach us a good lesson : tattoo artists with shaved heads are not always bad guys , in fact they can be better than the average looking dad ( wow , this is like ... philosophy , or something ) . xxmaj thank you , xxmaj xxunk . i 'll propose you for the xxmaj nobel prize of literature .,xxbos i read about this movie in a magazine and i was intrigued . a woman , who one day sees herself drive past in her own car . xxmaj well , i thought , this could be interesting ... \n",
              " \n",
              "  ... but it is n't . xxmaj first , the title . xxmaj the xxmaj broken ? xxmaj the xxmaj broken ... what ? xxmaj what is broken ? xxmaj the ... oh , wait ... i get it , the title itself is \" broken \" ! xxup wow , clever ! xxmaj unfortunately , this is virtually the only thing going for it . \n",
              " \n",
              "  xxmaj the premise is not that bad , but i think xxmaj kiefer xxmaj xxunk did much better in ' xxmaj mirrors ' . a cross between xxmaj invasion of the xxmaj body xxmaj snatchers and xxmaj mirrors , and a rather mediocre one at that . a more suited title would be ' xxmaj the xxmaj boring ' , since it draws out every single scene for bloody ages . xxmaj or maybe ' xxmaj the xxmaj confusing ' since it does n't explain anything at all , not in the narrative nor in the story itself , only some vague idea about evil copies and somesuch , dotted with cheap scares and scenes used to death , but nothing tangible . xxmaj it 's just messed up . \n",
              " \n",
              "  xxmaj on the other hand , the acting and the special effects are quite good , but then again , it 's not a difficult role to act . \n",
              " \n",
              "  xxmaj after watching the movie twice , i still feel unsatisfied , a little confused maybe , and not in the xxup e. xxup a. xxmaj poe or xxmaj stephen xxmaj king kind of way . xxmaj do yourself a favor , and do n't watch this one . xxmaj simply put , there are better thrillers out there .,xxbos i first saw this when i was around 7 . i remembered what i believed to be a vague outline of what took place . xxmaj turns out now , 15 years later , that i remembered everything with great accuracy because it seems the writers never got beyond making an outline to the story . xxmaj there is no plot to this movie / cartoon . xxmaj there is no character development , no back story , no character arcs , nothing . xxmaj the good guys do things because they are good , while the bad guys do things solely because they are bad . xxmaj one unintentionally hilarious part is when someone who you would think to be important dies and nobody cares in the least . xxmaj they just shrug their shoulders and move on . xxmaj there 's barely any dialogue either . xxmaj if you cut out the fight scenes and the running scenes , you lose 70 % of the movie . \n",
              " \n",
              "  xxmaj watch this because you want to see some good animation and for no other reason . xxmaj or if you like to look at scantily clad hot cartoon chicks ( or scantily clad hot cartoon dudes ) .,xxbos \" xxmaj igor and the xxmaj lunatics \" is a totally inept and amateurish attempt at a crazy - hippie - cult - killing - spree horror movie . xxmaj apparently even nearly twenty years later , xxmaj charles xxmaj manson was still inspiring xxunk but incompetent trash - filmmakers . xxmaj this is a typical xxmaj troma production , meaning in other words , there 's a lot of boring and totally irrelevant padding footage to accompany the nonsensical plot . xxmaj there 's a bit of random gore and gratuitous nudity on display  which is n't bad  but it 's all so very pointless and ugly that it becomes frustrating to look at . \" xxmaj igor and the xxmaj lunatics \" is so desperate that it 's even using a lot of the footage twice , like the circle saw killing for example . xxmaj the incoherent plot tries to tell the story of a hippie cult run by the drug - addicted and xxmaj charlie xxmaj manson wannabe xxmaj paul . xxmaj one of xxmaj paul 's lower ranked disciples , named xxmaj igor , becomes a little bit too obsessed with the xxmaj bible stories and drug orgies and gradually causes the entire cult to descent further into criminal insanity . xxmaj just to illustrate through a little example exactly how crazy xxmaj igor is : he tears the heart straight out of the chest of a really sexy black hitch - hiker girl ! xxmaj there 's an annoying synthesizer soundtrack and some truly embarrassingly lame pseudo - artistic camera tricks , like slow - motion footage and lurid dream sequences . xxmaj maybe there 's one sequence that more or less qualifies as worthwhile for trash fanatics and that ' is when a poor girl is cut in half with a machete . xxmaj for no particular reason , the camera holds the shot of the blade in the bloodied stomach for fifteen whole seconds .,xxbos i 'll keep this short ; thanks to xxmaj greg for helping me to put this succinctly : xxmaj captivity is about a guy who drugs a girl 's drink , imprisons and tortures her , then poses as a captive to have sex with her . xxmaj that is the single twist and punchline of the film . xxmaj it 's torture as slow motion date rape . xxmaj and , it 's not even a good movie . xxmaj it 's not so bad it 's good ; it 's just bad . \n",
              " \n",
              "  xxmaj it should also be mentioned that among critics , there is a \" spoiler code \" that they dare not break , even though some were tempted to on this one because it is so vile . xxmaj why xxup no xxup one had the cojones to step up and say , \" this is garbage , and this is why , \" is beyond me . \n",
              " \n",
              "  xxmaj do n't give your money to these poop - peddlers .\n",
              "y: CategoryList\n",
              "neg,neg,neg,neg,neg\n",
              "Path: /root/.fastai/data/imdb;\n",
              "\n",
              "Valid: LabelList (25000 items)\n",
              "x: TextList\n",
              "xxbos i just caught this on xxmaj showtime ... e xxrep 7 w , not even fun in a bad movie kind of way . xxmaj one of the lamest monster flicks i 've ever seen . xxmaj plus the xxup tv reporter in the movie was that annoying xxmaj jerri from a past season of xxmaj survivor . xxmaj the only amusing thing was that the \" secret base \" was the house from xxmaj fantasy xxmaj island ( and a million other movies and xxup tv shows ; the place is located in the xxup l.a. area ) . i fully expected xxmaj mr xxmaj roarke and xxmaj tattoo to come out and greet the visitors . xxmaj if xxmaj tattoo had gotten eaten by the snake , i might have given this movie a 2 , but oh well . xxmaj watching people stand there and scream for five minutes while the xxmaj komodo or the cobra loomed over them instead of making a run for it was pretty funny , especially because you could really tell that they were just screaming at an empty spot where the computer animators would later paint in the monster . i nearly fell out of my chair , though , when in a flashback scene they brought in either the cobra or the komodo - then normal size - in some indestructible solid steel container with some air holes drilled into it . xxmaj would n't a wire cage have sufficed ? xxup lol ! xxmaj guess they could n't afford to rent a real komodo and cobra . i have to remember i rent xxmaj showtime for their series and not their movies .,xxbos xxmaj barney teaches kids nothing ! ! ! xxmaj here are some 3 reasons why you should n't let you kids watch this show : 1 . xxmaj barney teaches kids that we should think xxup exactly like each other to get along . \n",
              " \n",
              "  2 . xxmaj barney teaches kids that you should n't be sad , and if you feel sad , xxup eat xxup lots xxup of xxup ice xxup cream ! ! ! 3 . xxmaj if you make people pity you they will give you what you want when you want it . \n",
              " \n",
              "  xxmaj barney is just a xxmaj fat doll who told kids strangers are your friends . xxmaj he should xxup not be trusted . xxmaj and he is high every day ! ! ! , he constantly xxup giggles xxrep 4 ! xxup do xxup not xxup watch xxup this xxup show xxrep 11 ! xxmaj your kids will thank you when there older,xxbos xxmaj there is nothing worse than science fiction crafted by folks who do n't have a feel for it . xxmaj grasping at a concept which would n't be so terrible by itself ( a future where cloning is common enough that it is necessary to make it a crime for you to breed with someone too close to you genetically ) the screenwriter proceeded to allow his ill - suited imagination to run wild . \n",
              " \n",
              "  xxmaj when xxmaj tim xxmaj robbins ' character was able to guess a security guard 's computer password simply by getting her to tell him one thing about herself , i knew i was in for trouble . xxmaj this ability was later revealed to be due to xxmaj robbins having taken an \" empathy virus \" , viruses being used to grant instant ( or nearly instant ) skill upgrades to their users . xxmaj robbins ' love interest complained about her own experience with such a virus -- a xxmaj mandarin xxmaj chinese language virus , which allowed her to speak xxmaj chinese , but as she complained , \" she could n't understand what she was saying . \" xxmaj okay , first off , empathy , no matter how intense , is n't xxup esp . xxmaj without incorporating some sort of true mind - reading aspect ( like an empathy virus which actively releases xxunk into the vicinity , infects nearby people , picks up bits of their memory , then departs for the original host -- which is , as you can probably tell , a xxunk on the impractical side ) you ca n't justify being able to determine a specific detail like someone 's password just by \" listening to the things you did n't say \" . xxmaj nor can you acquire the ability to speak a language without understanding what you 're saying -- the virus ca n't infect your vocal cords and translate for you on the fly , because a virus ca n't * xxunk xxmaj to give you the power to speak xxmaj chinese , such a learning virus would have to modify your brain . xxmaj it would have to xxunk the knowledge among neurons , and once it 's in there , it 's * yours * -- you certainly understand what you 're saying , because you have to . xxmaj to use your own brain to perform a task , you must understand that task ( for the most part ) . xxmaj unless , of course , they movie is suggesting that the virus was deliberately designed to put in place some bizarre multiple - personality mental schism where some sub - personae of yours functions as a built - in , one - way translator . \n",
              " \n",
              "  xxmaj the mélange of languages spoken by the characters is decent enough , although nowhere near remarkable enough to warrant all the love other reviewers have given . xxmaj what 's more , all the multicultural insertions in the world ca n't make up for a simple , frustrating fact : xxmaj the dialog stinks ! xxmaj it 's slow , it 's plodding , and it 's unnatural . xxmaj again , i 'm sure adherents have convinced themselves that the dull strangeness is simply the result of an inspired genius creating a truly futuristic ( and therefore subjected to linguistic drift ) form of speech . i disagree . xxmaj good dialog is good dialog in any era -- and the same goes for tripe . \n",
              " \n",
              "  xxmaj lastly , i 'll revisit the central concept of the movie -- the banning of sex with yourself . xxmaj widespread cloning is a nice , classic sci - fi topic . xxmaj so is global warming leading to ecological devastation ( which xxmaj code 46 also incorporates ) . xxmaj unfortunately , the two do n't go together ! xxmaj if you have an ecological disaster cutting down severely on the available living area , you do n't run around cloning people ! xxmaj you have population problems enough as it is -- you do n't add to them by cranking out re - issues . xxmaj regular , old - fashioned sex - and - birth provides all the population you need , and cloning of any sort would be ruthlessly suppressed . \n",
              " \n",
              "  xxmaj to be fair , the movie was n't all bad . xxmaj it had some nice cinematography . xxmaj perhaps if i had watched it muted , i could 've enjoyed it .,xxbos xxmaj this movie was s xxrep 7 o sl xxrep 4 o w ! ! ! xxmaj and everything in it was bland , the acting , the plot , etc . xxmaj it was such a disappointment , since the description looked so good ! xxmaj do not be fooled ! xxmaj this movie is not worth the time it takes to watch it ! ! !,xxbos xxmaj based on a xxmaj edgar xxmaj rice xxmaj burroughs novel , xxup at xxup the xxup earth xxup 's xxup core provides little more than means to escape and give your brain a rest . a xxmaj victorian scientist xxmaj dr. xxmaj abner xxunk xxmaj xxunk a giant burrowing machine , which he and his xxmaj american xxunk xxunk to corkscrew their way deep into the earth to explore what mysteries it may hold . xxmaj they soon discover a lost world of subhuman creatures having conflict with prehistoric monsters . \n",
              " \n",
              "  xxmaj cushing comes across as an absent minded professor to the point of being annoying . xxmaj instead of being a bold adventurer , he comes across effeminate . xxmaj on the other hand mcclure overacted enough to make himself also laughable . xxmaj caroline xxmaj munro plays the pretty xxmaj princess xxmaj dia that refuses to leave her world near the center of the earth . xxmaj also in the cast are : xxmaj godfrey xxmaj james , xxmaj cy xxmaj grant and xxmaj michael xxmaj crane .\n",
              "y: CategoryList\n",
              "neg,neg,neg,neg,neg\n",
              "Path: /root/.fastai/data/imdb;\n",
              "\n",
              "Test: None, model=SequentialRNN(\n",
              "  (0): MultiBatchEncoder(\n",
              "    (module): AWD_LSTM(\n",
              "      (encoder): Embedding(60000, 400, padding_idx=1)\n",
              "      (encoder_dp): EmbeddingDropout(\n",
              "        (emb): Embedding(60000, 400, padding_idx=1)\n",
              "      )\n",
              "      (rnns): ModuleList(\n",
              "        (0): WeightDropout(\n",
              "          (module): LSTM(400, 1152, batch_first=True)\n",
              "        )\n",
              "        (1): WeightDropout(\n",
              "          (module): LSTM(1152, 1152, batch_first=True)\n",
              "        )\n",
              "        (2): WeightDropout(\n",
              "          (module): LSTM(1152, 400, batch_first=True)\n",
              "        )\n",
              "      )\n",
              "      (input_dp): RNNDropout()\n",
              "      (hidden_dps): ModuleList(\n",
              "        (0): RNNDropout()\n",
              "        (1): RNNDropout()\n",
              "        (2): RNNDropout()\n",
              "      )\n",
              "    )\n",
              "  )\n",
              "  (1): PoolingLinearClassifier(\n",
              "    (layers): Sequential(\n",
              "      (0): BatchNorm1d(1200, eps=1e-05, momentum=0.1, affine=True, track_running_stats=True)\n",
              "      (1): Dropout(p=0.2, inplace=False)\n",
              "      (2): Linear(in_features=1200, out_features=50, bias=True)\n",
              "      (3): ReLU(inplace=True)\n",
              "      (4): BatchNorm1d(50, eps=1e-05, momentum=0.1, affine=True, track_running_stats=True)\n",
              "      (5): Dropout(p=0.1, inplace=False)\n",
              "      (6): Linear(in_features=50, out_features=2, bias=True)\n",
              "    )\n",
              "  )\n",
              "), opt_func=functools.partial(<class 'torch.optim.adam.Adam'>, betas=(0.9, 0.99)), loss_func=FlattenedLoss of CrossEntropyLoss(), metrics=[<function accuracy at 0x7f21304462f0>], true_wd=True, bn_wd=True, wd=0.01, train_bn=True, path=PosixPath('/root/.fastai/data/imdb'), model_dir='models', callback_fns=[functools.partial(<class 'fastai.basic_train.Recorder'>, add_time=True, silent=False)], callbacks=[RNNTrainer\n",
              "learn: RNNLearner(data=TextClasDataBunch;\n",
              "\n",
              "Train: LabelList (25000 items)\n",
              "x: TextList\n",
              "xxbos xxmaj this must be one of the most overrated xxmaj spanish films in history . xxmaj its lack of subtlety and complexity and its total political correction make it really childish , with only good / bad characters . xxmaj the world is just not like this , and good movies show complex characters with opposite impulses , dilemmas , etc . xxmaj however , what i xxup hate most about this film is xxmaj xxunk 's friend 's father . xxmaj the director tries to teach us a good lesson : tattoo artists with shaved heads are not always bad guys , in fact they can be better than the average looking dad ( wow , this is like ... philosophy , or something ) . xxmaj thank you , xxmaj xxunk . i 'll propose you for the xxmaj nobel prize of literature .,xxbos i read about this movie in a magazine and i was intrigued . a woman , who one day sees herself drive past in her own car . xxmaj well , i thought , this could be interesting ... \n",
              " \n",
              "  ... but it is n't . xxmaj first , the title . xxmaj the xxmaj broken ? xxmaj the xxmaj broken ... what ? xxmaj what is broken ? xxmaj the ... oh , wait ... i get it , the title itself is \" broken \" ! xxup wow , clever ! xxmaj unfortunately , this is virtually the only thing going for it . \n",
              " \n",
              "  xxmaj the premise is not that bad , but i think xxmaj kiefer xxmaj xxunk did much better in ' xxmaj mirrors ' . a cross between xxmaj invasion of the xxmaj body xxmaj snatchers and xxmaj mirrors , and a rather mediocre one at that . a more suited title would be ' xxmaj the xxmaj boring ' , since it draws out every single scene for bloody ages . xxmaj or maybe ' xxmaj the xxmaj confusing ' since it does n't explain anything at all , not in the narrative nor in the story itself , only some vague idea about evil copies and somesuch , dotted with cheap scares and scenes used to death , but nothing tangible . xxmaj it 's just messed up . \n",
              " \n",
              "  xxmaj on the other hand , the acting and the special effects are quite good , but then again , it 's not a difficult role to act . \n",
              " \n",
              "  xxmaj after watching the movie twice , i still feel unsatisfied , a little confused maybe , and not in the xxup e. xxup a. xxmaj poe or xxmaj stephen xxmaj king kind of way . xxmaj do yourself a favor , and do n't watch this one . xxmaj simply put , there are better thrillers out there .,xxbos i first saw this when i was around 7 . i remembered what i believed to be a vague outline of what took place . xxmaj turns out now , 15 years later , that i remembered everything with great accuracy because it seems the writers never got beyond making an outline to the story . xxmaj there is no plot to this movie / cartoon . xxmaj there is no character development , no back story , no character arcs , nothing . xxmaj the good guys do things because they are good , while the bad guys do things solely because they are bad . xxmaj one unintentionally hilarious part is when someone who you would think to be important dies and nobody cares in the least . xxmaj they just shrug their shoulders and move on . xxmaj there 's barely any dialogue either . xxmaj if you cut out the fight scenes and the running scenes , you lose 70 % of the movie . \n",
              " \n",
              "  xxmaj watch this because you want to see some good animation and for no other reason . xxmaj or if you like to look at scantily clad hot cartoon chicks ( or scantily clad hot cartoon dudes ) .,xxbos \" xxmaj igor and the xxmaj lunatics \" is a totally inept and amateurish attempt at a crazy - hippie - cult - killing - spree horror movie . xxmaj apparently even nearly twenty years later , xxmaj charles xxmaj manson was still inspiring xxunk but incompetent trash - filmmakers . xxmaj this is a typical xxmaj troma production , meaning in other words , there 's a lot of boring and totally irrelevant padding footage to accompany the nonsensical plot . xxmaj there 's a bit of random gore and gratuitous nudity on display  which is n't bad  but it 's all so very pointless and ugly that it becomes frustrating to look at . \" xxmaj igor and the xxmaj lunatics \" is so desperate that it 's even using a lot of the footage twice , like the circle saw killing for example . xxmaj the incoherent plot tries to tell the story of a hippie cult run by the drug - addicted and xxmaj charlie xxmaj manson wannabe xxmaj paul . xxmaj one of xxmaj paul 's lower ranked disciples , named xxmaj igor , becomes a little bit too obsessed with the xxmaj bible stories and drug orgies and gradually causes the entire cult to descent further into criminal insanity . xxmaj just to illustrate through a little example exactly how crazy xxmaj igor is : he tears the heart straight out of the chest of a really sexy black hitch - hiker girl ! xxmaj there 's an annoying synthesizer soundtrack and some truly embarrassingly lame pseudo - artistic camera tricks , like slow - motion footage and lurid dream sequences . xxmaj maybe there 's one sequence that more or less qualifies as worthwhile for trash fanatics and that ' is when a poor girl is cut in half with a machete . xxmaj for no particular reason , the camera holds the shot of the blade in the bloodied stomach for fifteen whole seconds .,xxbos i 'll keep this short ; thanks to xxmaj greg for helping me to put this succinctly : xxmaj captivity is about a guy who drugs a girl 's drink , imprisons and tortures her , then poses as a captive to have sex with her . xxmaj that is the single twist and punchline of the film . xxmaj it 's torture as slow motion date rape . xxmaj and , it 's not even a good movie . xxmaj it 's not so bad it 's good ; it 's just bad . \n",
              " \n",
              "  xxmaj it should also be mentioned that among critics , there is a \" spoiler code \" that they dare not break , even though some were tempted to on this one because it is so vile . xxmaj why xxup no xxup one had the cojones to step up and say , \" this is garbage , and this is why , \" is beyond me . \n",
              " \n",
              "  xxmaj do n't give your money to these poop - peddlers .\n",
              "y: CategoryList\n",
              "neg,neg,neg,neg,neg\n",
              "Path: /root/.fastai/data/imdb;\n",
              "\n",
              "Valid: LabelList (25000 items)\n",
              "x: TextList\n",
              "xxbos i just caught this on xxmaj showtime ... e xxrep 7 w , not even fun in a bad movie kind of way . xxmaj one of the lamest monster flicks i 've ever seen . xxmaj plus the xxup tv reporter in the movie was that annoying xxmaj jerri from a past season of xxmaj survivor . xxmaj the only amusing thing was that the \" secret base \" was the house from xxmaj fantasy xxmaj island ( and a million other movies and xxup tv shows ; the place is located in the xxup l.a. area ) . i fully expected xxmaj mr xxmaj roarke and xxmaj tattoo to come out and greet the visitors . xxmaj if xxmaj tattoo had gotten eaten by the snake , i might have given this movie a 2 , but oh well . xxmaj watching people stand there and scream for five minutes while the xxmaj komodo or the cobra loomed over them instead of making a run for it was pretty funny , especially because you could really tell that they were just screaming at an empty spot where the computer animators would later paint in the monster . i nearly fell out of my chair , though , when in a flashback scene they brought in either the cobra or the komodo - then normal size - in some indestructible solid steel container with some air holes drilled into it . xxmaj would n't a wire cage have sufficed ? xxup lol ! xxmaj guess they could n't afford to rent a real komodo and cobra . i have to remember i rent xxmaj showtime for their series and not their movies .,xxbos xxmaj barney teaches kids nothing ! ! ! xxmaj here are some 3 reasons why you should n't let you kids watch this show : 1 . xxmaj barney teaches kids that we should think xxup exactly like each other to get along . \n",
              " \n",
              "  2 . xxmaj barney teaches kids that you should n't be sad , and if you feel sad , xxup eat xxup lots xxup of xxup ice xxup cream ! ! ! 3 . xxmaj if you make people pity you they will give you what you want when you want it . \n",
              " \n",
              "  xxmaj barney is just a xxmaj fat doll who told kids strangers are your friends . xxmaj he should xxup not be trusted . xxmaj and he is high every day ! ! ! , he constantly xxup giggles xxrep 4 ! xxup do xxup not xxup watch xxup this xxup show xxrep 11 ! xxmaj your kids will thank you when there older,xxbos xxmaj there is nothing worse than science fiction crafted by folks who do n't have a feel for it . xxmaj grasping at a concept which would n't be so terrible by itself ( a future where cloning is common enough that it is necessary to make it a crime for you to breed with someone too close to you genetically ) the screenwriter proceeded to allow his ill - suited imagination to run wild . \n",
              " \n",
              "  xxmaj when xxmaj tim xxmaj robbins ' character was able to guess a security guard 's computer password simply by getting her to tell him one thing about herself , i knew i was in for trouble . xxmaj this ability was later revealed to be due to xxmaj robbins having taken an \" empathy virus \" , viruses being used to grant instant ( or nearly instant ) skill upgrades to their users . xxmaj robbins ' love interest complained about her own experience with such a virus -- a xxmaj mandarin xxmaj chinese language virus , which allowed her to speak xxmaj chinese , but as she complained , \" she could n't understand what she was saying . \" xxmaj okay , first off , empathy , no matter how intense , is n't xxup esp . xxmaj without incorporating some sort of true mind - reading aspect ( like an empathy virus which actively releases xxunk into the vicinity , infects nearby people , picks up bits of their memory , then departs for the original host -- which is , as you can probably tell , a xxunk on the impractical side ) you ca n't justify being able to determine a specific detail like someone 's password just by \" listening to the things you did n't say \" . xxmaj nor can you acquire the ability to speak a language without understanding what you 're saying -- the virus ca n't infect your vocal cords and translate for you on the fly , because a virus ca n't * xxunk xxmaj to give you the power to speak xxmaj chinese , such a learning virus would have to modify your brain . xxmaj it would have to xxunk the knowledge among neurons , and once it 's in there , it 's * yours * -- you certainly understand what you 're saying , because you have to . xxmaj to use your own brain to perform a task , you must understand that task ( for the most part ) . xxmaj unless , of course , they movie is suggesting that the virus was deliberately designed to put in place some bizarre multiple - personality mental schism where some sub - personae of yours functions as a built - in , one - way translator . \n",
              " \n",
              "  xxmaj the mélange of languages spoken by the characters is decent enough , although nowhere near remarkable enough to warrant all the love other reviewers have given . xxmaj what 's more , all the multicultural insertions in the world ca n't make up for a simple , frustrating fact : xxmaj the dialog stinks ! xxmaj it 's slow , it 's plodding , and it 's unnatural . xxmaj again , i 'm sure adherents have convinced themselves that the dull strangeness is simply the result of an inspired genius creating a truly futuristic ( and therefore subjected to linguistic drift ) form of speech . i disagree . xxmaj good dialog is good dialog in any era -- and the same goes for tripe . \n",
              " \n",
              "  xxmaj lastly , i 'll revisit the central concept of the movie -- the banning of sex with yourself . xxmaj widespread cloning is a nice , classic sci - fi topic . xxmaj so is global warming leading to ecological devastation ( which xxmaj code 46 also incorporates ) . xxmaj unfortunately , the two do n't go together ! xxmaj if you have an ecological disaster cutting down severely on the available living area , you do n't run around cloning people ! xxmaj you have population problems enough as it is -- you do n't add to them by cranking out re - issues . xxmaj regular , old - fashioned sex - and - birth provides all the population you need , and cloning of any sort would be ruthlessly suppressed . \n",
              " \n",
              "  xxmaj to be fair , the movie was n't all bad . xxmaj it had some nice cinematography . xxmaj perhaps if i had watched it muted , i could 've enjoyed it .,xxbos xxmaj this movie was s xxrep 7 o sl xxrep 4 o w ! ! ! xxmaj and everything in it was bland , the acting , the plot , etc . xxmaj it was such a disappointment , since the description looked so good ! xxmaj do not be fooled ! xxmaj this movie is not worth the time it takes to watch it ! ! !,xxbos xxmaj based on a xxmaj edgar xxmaj rice xxmaj burroughs novel , xxup at xxup the xxup earth xxup 's xxup core provides little more than means to escape and give your brain a rest . a xxmaj victorian scientist xxmaj dr. xxmaj abner xxunk xxmaj xxunk a giant burrowing machine , which he and his xxmaj american xxunk xxunk to corkscrew their way deep into the earth to explore what mysteries it may hold . xxmaj they soon discover a lost world of subhuman creatures having conflict with prehistoric monsters . \n",
              " \n",
              "  xxmaj cushing comes across as an absent minded professor to the point of being annoying . xxmaj instead of being a bold adventurer , he comes across effeminate . xxmaj on the other hand mcclure overacted enough to make himself also laughable . xxmaj caroline xxmaj munro plays the pretty xxmaj princess xxmaj dia that refuses to leave her world near the center of the earth . xxmaj also in the cast are : xxmaj godfrey xxmaj james , xxmaj cy xxmaj grant and xxmaj michael xxmaj crane .\n",
              "y: CategoryList\n",
              "neg,neg,neg,neg,neg\n",
              "Path: /root/.fastai/data/imdb;\n",
              "\n",
              "Test: None, model=SequentialRNN(\n",
              "  (0): MultiBatchEncoder(\n",
              "    (module): AWD_LSTM(\n",
              "      (encoder): Embedding(60000, 400, padding_idx=1)\n",
              "      (encoder_dp): EmbeddingDropout(\n",
              "        (emb): Embedding(60000, 400, padding_idx=1)\n",
              "      )\n",
              "      (rnns): ModuleList(\n",
              "        (0): WeightDropout(\n",
              "          (module): LSTM(400, 1152, batch_first=True)\n",
              "        )\n",
              "        (1): WeightDropout(\n",
              "          (module): LSTM(1152, 1152, batch_first=True)\n",
              "        )\n",
              "        (2): WeightDropout(\n",
              "          (module): LSTM(1152, 400, batch_first=True)\n",
              "        )\n",
              "      )\n",
              "      (input_dp): RNNDropout()\n",
              "      (hidden_dps): ModuleList(\n",
              "        (0): RNNDropout()\n",
              "        (1): RNNDropout()\n",
              "        (2): RNNDropout()\n",
              "      )\n",
              "    )\n",
              "  )\n",
              "  (1): PoolingLinearClassifier(\n",
              "    (layers): Sequential(\n",
              "      (0): BatchNorm1d(1200, eps=1e-05, momentum=0.1, affine=True, track_running_stats=True)\n",
              "      (1): Dropout(p=0.2, inplace=False)\n",
              "      (2): Linear(in_features=1200, out_features=50, bias=True)\n",
              "      (3): ReLU(inplace=True)\n",
              "      (4): BatchNorm1d(50, eps=1e-05, momentum=0.1, affine=True, track_running_stats=True)\n",
              "      (5): Dropout(p=0.1, inplace=False)\n",
              "      (6): Linear(in_features=50, out_features=2, bias=True)\n",
              "    )\n",
              "  )\n",
              "), opt_func=functools.partial(<class 'torch.optim.adam.Adam'>, betas=(0.9, 0.99)), loss_func=FlattenedLoss of CrossEntropyLoss(), metrics=[<function accuracy at 0x7f21304462f0>], true_wd=True, bn_wd=True, wd=0.01, train_bn=True, path=PosixPath('/root/.fastai/data/imdb'), model_dir='models', callback_fns=[functools.partial(<class 'fastai.basic_train.Recorder'>, add_time=True, silent=False)], callbacks=[...], layer_groups=[Sequential(\n",
              "  (0): Embedding(60000, 400, padding_idx=1)\n",
              "  (1): EmbeddingDropout(\n",
              "    (emb): Embedding(60000, 400, padding_idx=1)\n",
              "  )\n",
              "), Sequential(\n",
              "  (0): WeightDropout(\n",
              "    (module): LSTM(400, 1152, batch_first=True)\n",
              "  )\n",
              "  (1): RNNDropout()\n",
              "), Sequential(\n",
              "  (0): WeightDropout(\n",
              "    (module): LSTM(1152, 1152, batch_first=True)\n",
              "  )\n",
              "  (1): RNNDropout()\n",
              "), Sequential(\n",
              "  (0): WeightDropout(\n",
              "    (module): LSTM(1152, 400, batch_first=True)\n",
              "  )\n",
              "  (1): RNNDropout()\n",
              "), Sequential(\n",
              "  (0): PoolingLinearClassifier(\n",
              "    (layers): Sequential(\n",
              "      (0): BatchNorm1d(1200, eps=1e-05, momentum=0.1, affine=True, track_running_stats=True)\n",
              "      (1): Dropout(p=0.2, inplace=False)\n",
              "      (2): Linear(in_features=1200, out_features=50, bias=True)\n",
              "      (3): ReLU(inplace=True)\n",
              "      (4): BatchNorm1d(50, eps=1e-05, momentum=0.1, affine=True, track_running_stats=True)\n",
              "      (5): Dropout(p=0.1, inplace=False)\n",
              "      (6): Linear(in_features=50, out_features=2, bias=True)\n",
              "    )\n",
              "  )\n",
              ")], add_time=True, silent=False, cb_fns_registered=False)\n",
              "alpha: 2.0\n",
              "beta: 1.0], layer_groups=[Sequential(\n",
              "  (0): Embedding(60000, 400, padding_idx=1)\n",
              "  (1): EmbeddingDropout(\n",
              "    (emb): Embedding(60000, 400, padding_idx=1)\n",
              "  )\n",
              "), Sequential(\n",
              "  (0): WeightDropout(\n",
              "    (module): LSTM(400, 1152, batch_first=True)\n",
              "  )\n",
              "  (1): RNNDropout()\n",
              "), Sequential(\n",
              "  (0): WeightDropout(\n",
              "    (module): LSTM(1152, 1152, batch_first=True)\n",
              "  )\n",
              "  (1): RNNDropout()\n",
              "), Sequential(\n",
              "  (0): WeightDropout(\n",
              "    (module): LSTM(1152, 400, batch_first=True)\n",
              "  )\n",
              "  (1): RNNDropout()\n",
              "), Sequential(\n",
              "  (0): PoolingLinearClassifier(\n",
              "    (layers): Sequential(\n",
              "      (0): BatchNorm1d(1200, eps=1e-05, momentum=0.1, affine=True, track_running_stats=True)\n",
              "      (1): Dropout(p=0.2, inplace=False)\n",
              "      (2): Linear(in_features=1200, out_features=50, bias=True)\n",
              "      (3): ReLU(inplace=True)\n",
              "      (4): BatchNorm1d(50, eps=1e-05, momentum=0.1, affine=True, track_running_stats=True)\n",
              "      (5): Dropout(p=0.1, inplace=False)\n",
              "      (6): Linear(in_features=50, out_features=2, bias=True)\n",
              "    )\n",
              "  )\n",
              ")], add_time=True, silent=False, cb_fns_registered=False)"
            ]
          },
          "metadata": {
            "tags": []
          },
          "execution_count": 45
        }
      ]
    },
    {
      "cell_type": "code",
      "metadata": {
        "id": "iK5GKZavWdnq",
        "colab_type": "code",
        "outputId": "1e6b91c0-2bbc-4eb8-88f9-c2c07f863c77",
        "colab": {
          "base_uri": "https://localhost:8080/",
          "height": 334
        }
      },
      "source": [
        "learn.lr_find()\n",
        "learn.recorder.plot(suggestion=True)"
      ],
      "execution_count": 0,
      "outputs": [
        {
          "output_type": "display_data",
          "data": {
            "text/html": [
              ""
            ],
            "text/plain": [
              "<IPython.core.display.HTML object>"
            ]
          },
          "metadata": {
            "tags": []
          }
        },
        {
          "output_type": "stream",
          "text": [
            "LR Finder is complete, type {learner_name}.recorder.plot() to see the graph.\n",
            "Min numerical gradient: 6.92E-04\n",
            "Min loss divided by 10: 1.45E-02\n"
          ],
          "name": "stdout"
        },
        {
          "output_type": "display_data",
          "data": {
            "image/png": "[encoded data removed]",
            "text/plain": [
              "<Figure size 432x288 with 1 Axes>"
            ]
          },
          "metadata": {
            "tags": []
          }
        }
      ]
    },
    {
      "cell_type": "code",
      "metadata": {
        "id": "raaROU0FWuWu",
        "colab_type": "code",
        "outputId": "961b971b-11e4-4532-b06a-108751ce3235",
        "colab": {
          "base_uri": "https://localhost:8080/",
          "height": 77
        }
      },
      "source": [
        "learn.fit_one_cycle(1, 6.92e-04, moms=(0.8,0.7))"
      ],
      "execution_count": 0,
      "outputs": [
        {
          "output_type": "display_data",
          "data": {
            "text/html": [
              "<table border=\"1\" class=\"dataframe\">\n",
              "  <thead>\n",
              "    <tr style=\"text-align: left;\">\n",
              "      <th>epoch</th>\n",
              "      <th>train_loss</th>\n",
              "      <th>valid_loss</th>\n",
              "      <th>accuracy</th>\n",
              "      <th>time</th>\n",
              "    </tr>\n",
              "  </thead>\n",
              "  <tbody>\n",
              "    <tr>\n",
              "      <td>0</td>\n",
              "      <td>0.426062</td>\n",
              "      <td>0.341344</td>\n",
              "      <td>0.849200</td>\n",
              "      <td>10:52</td>\n",
              "    </tr>\n",
              "  </tbody>\n",
              "</table>"
            ],
            "text/plain": [
              "<IPython.core.display.HTML object>"
            ]
          },
          "metadata": {
            "tags": []
          }
        }
      ]
    },
    {
      "cell_type": "code",
      "metadata": {
        "id": "bhYUUqvMXbkM",
        "colab_type": "code",
        "colab": {}
      },
      "source": [
        "learn.save('first')"
      ],
      "execution_count": 0,
      "outputs": []
    },
    {
      "cell_type": "code",
      "metadata": {
        "id": "R6-vVrAVZHSv",
        "colab_type": "code",
        "outputId": "0bb25599-d17e-406d-e4ea-837cd6a03083",
        "colab": {
          "base_uri": "https://localhost:8080/",
          "height": 1000
        }
      },
      "source": [
        "learn.load('first')"
      ],
      "execution_count": 0,
      "outputs": [
        {
          "output_type": "execute_result",
          "data": {
            "text/plain": [
              "RNNLearner(data=TextClasDataBunch;\n",
              "\n",
              "Train: LabelList (25000 items)\n",
              "x: TextList\n",
              "xxbos xxmaj this must be one of the most overrated xxmaj spanish films in history . xxmaj its lack of subtlety and complexity and its total political correction make it really childish , with only good / bad characters . xxmaj the world is just not like this , and good movies show complex characters with opposite impulses , dilemmas , etc . xxmaj however , what i xxup hate most about this film is xxmaj xxunk 's friend 's father . xxmaj the director tries to teach us a good lesson : tattoo artists with shaved heads are not always bad guys , in fact they can be better than the average looking dad ( wow , this is like ... philosophy , or something ) . xxmaj thank you , xxmaj xxunk . i 'll propose you for the xxmaj nobel prize of literature .,xxbos i read about this movie in a magazine and i was intrigued . a woman , who one day sees herself drive past in her own car . xxmaj well , i thought , this could be interesting ... \n",
              " \n",
              "  ... but it is n't . xxmaj first , the title . xxmaj the xxmaj broken ? xxmaj the xxmaj broken ... what ? xxmaj what is broken ? xxmaj the ... oh , wait ... i get it , the title itself is \" broken \" ! xxup wow , clever ! xxmaj unfortunately , this is virtually the only thing going for it . \n",
              " \n",
              "  xxmaj the premise is not that bad , but i think xxmaj kiefer xxmaj xxunk did much better in ' xxmaj mirrors ' . a cross between xxmaj invasion of the xxmaj body xxmaj snatchers and xxmaj mirrors , and a rather mediocre one at that . a more suited title would be ' xxmaj the xxmaj boring ' , since it draws out every single scene for bloody ages . xxmaj or maybe ' xxmaj the xxmaj confusing ' since it does n't explain anything at all , not in the narrative nor in the story itself , only some vague idea about evil copies and somesuch , dotted with cheap scares and scenes used to death , but nothing tangible . xxmaj it 's just messed up . \n",
              " \n",
              "  xxmaj on the other hand , the acting and the special effects are quite good , but then again , it 's not a difficult role to act . \n",
              " \n",
              "  xxmaj after watching the movie twice , i still feel unsatisfied , a little confused maybe , and not in the xxup e. xxup a. xxmaj poe or xxmaj stephen xxmaj king kind of way . xxmaj do yourself a favor , and do n't watch this one . xxmaj simply put , there are better thrillers out there .,xxbos i first saw this when i was around 7 . i remembered what i believed to be a vague outline of what took place . xxmaj turns out now , 15 years later , that i remembered everything with great accuracy because it seems the writers never got beyond making an outline to the story . xxmaj there is no plot to this movie / cartoon . xxmaj there is no character development , no back story , no character arcs , nothing . xxmaj the good guys do things because they are good , while the bad guys do things solely because they are bad . xxmaj one unintentionally hilarious part is when someone who you would think to be important dies and nobody cares in the least . xxmaj they just shrug their shoulders and move on . xxmaj there 's barely any dialogue either . xxmaj if you cut out the fight scenes and the running scenes , you lose 70 % of the movie . \n",
              " \n",
              "  xxmaj watch this because you want to see some good animation and for no other reason . xxmaj or if you like to look at scantily clad hot cartoon chicks ( or scantily clad hot cartoon dudes ) .,xxbos \" xxmaj igor and the xxmaj lunatics \" is a totally inept and amateurish attempt at a crazy - hippie - cult - killing - spree horror movie . xxmaj apparently even nearly twenty years later , xxmaj charles xxmaj manson was still inspiring xxunk but incompetent trash - filmmakers . xxmaj this is a typical xxmaj troma production , meaning in other words , there 's a lot of boring and totally irrelevant padding footage to accompany the nonsensical plot . xxmaj there 's a bit of random gore and gratuitous nudity on display  which is n't bad  but it 's all so very pointless and ugly that it becomes frustrating to look at . \" xxmaj igor and the xxmaj lunatics \" is so desperate that it 's even using a lot of the footage twice , like the circle saw killing for example . xxmaj the incoherent plot tries to tell the story of a hippie cult run by the drug - addicted and xxmaj charlie xxmaj manson wannabe xxmaj paul . xxmaj one of xxmaj paul 's lower ranked disciples , named xxmaj igor , becomes a little bit too obsessed with the xxmaj bible stories and drug orgies and gradually causes the entire cult to descent further into criminal insanity . xxmaj just to illustrate through a little example exactly how crazy xxmaj igor is : he tears the heart straight out of the chest of a really sexy black hitch - hiker girl ! xxmaj there 's an annoying synthesizer soundtrack and some truly embarrassingly lame pseudo - artistic camera tricks , like slow - motion footage and lurid dream sequences . xxmaj maybe there 's one sequence that more or less qualifies as worthwhile for trash fanatics and that ' is when a poor girl is cut in half with a machete . xxmaj for no particular reason , the camera holds the shot of the blade in the bloodied stomach for fifteen whole seconds .,xxbos i 'll keep this short ; thanks to xxmaj greg for helping me to put this succinctly : xxmaj captivity is about a guy who drugs a girl 's drink , imprisons and tortures her , then poses as a captive to have sex with her . xxmaj that is the single twist and punchline of the film . xxmaj it 's torture as slow motion date rape . xxmaj and , it 's not even a good movie . xxmaj it 's not so bad it 's good ; it 's just bad . \n",
              " \n",
              "  xxmaj it should also be mentioned that among critics , there is a \" spoiler code \" that they dare not break , even though some were tempted to on this one because it is so vile . xxmaj why xxup no xxup one had the cojones to step up and say , \" this is garbage , and this is why , \" is beyond me . \n",
              " \n",
              "  xxmaj do n't give your money to these poop - peddlers .\n",
              "y: CategoryList\n",
              "neg,neg,neg,neg,neg\n",
              "Path: /root/.fastai/data/imdb;\n",
              "\n",
              "Valid: LabelList (25000 items)\n",
              "x: TextList\n",
              "xxbos i just caught this on xxmaj showtime ... e xxrep 7 w , not even fun in a bad movie kind of way . xxmaj one of the lamest monster flicks i 've ever seen . xxmaj plus the xxup tv reporter in the movie was that annoying xxmaj jerri from a past season of xxmaj survivor . xxmaj the only amusing thing was that the \" secret base \" was the house from xxmaj fantasy xxmaj island ( and a million other movies and xxup tv shows ; the place is located in the xxup l.a. area ) . i fully expected xxmaj mr xxmaj roarke and xxmaj tattoo to come out and greet the visitors . xxmaj if xxmaj tattoo had gotten eaten by the snake , i might have given this movie a 2 , but oh well . xxmaj watching people stand there and scream for five minutes while the xxmaj komodo or the cobra loomed over them instead of making a run for it was pretty funny , especially because you could really tell that they were just screaming at an empty spot where the computer animators would later paint in the monster . i nearly fell out of my chair , though , when in a flashback scene they brought in either the cobra or the komodo - then normal size - in some indestructible solid steel container with some air holes drilled into it . xxmaj would n't a wire cage have sufficed ? xxup lol ! xxmaj guess they could n't afford to rent a real komodo and cobra . i have to remember i rent xxmaj showtime for their series and not their movies .,xxbos xxmaj barney teaches kids nothing ! ! ! xxmaj here are some 3 reasons why you should n't let you kids watch this show : 1 . xxmaj barney teaches kids that we should think xxup exactly like each other to get along . \n",
              " \n",
              "  2 . xxmaj barney teaches kids that you should n't be sad , and if you feel sad , xxup eat xxup lots xxup of xxup ice xxup cream ! ! ! 3 . xxmaj if you make people pity you they will give you what you want when you want it . \n",
              " \n",
              "  xxmaj barney is just a xxmaj fat doll who told kids strangers are your friends . xxmaj he should xxup not be trusted . xxmaj and he is high every day ! ! ! , he constantly xxup giggles xxrep 4 ! xxup do xxup not xxup watch xxup this xxup show xxrep 11 ! xxmaj your kids will thank you when there older,xxbos xxmaj there is nothing worse than science fiction crafted by folks who do n't have a feel for it . xxmaj grasping at a concept which would n't be so terrible by itself ( a future where cloning is common enough that it is necessary to make it a crime for you to breed with someone too close to you genetically ) the screenwriter proceeded to allow his ill - suited imagination to run wild . \n",
              " \n",
              "  xxmaj when xxmaj tim xxmaj robbins ' character was able to guess a security guard 's computer password simply by getting her to tell him one thing about herself , i knew i was in for trouble . xxmaj this ability was later revealed to be due to xxmaj robbins having taken an \" empathy virus \" , viruses being used to grant instant ( or nearly instant ) skill upgrades to their users . xxmaj robbins ' love interest complained about her own experience with such a virus -- a xxmaj mandarin xxmaj chinese language virus , which allowed her to speak xxmaj chinese , but as she complained , \" she could n't understand what she was saying . \" xxmaj okay , first off , empathy , no matter how intense , is n't xxup esp . xxmaj without incorporating some sort of true mind - reading aspect ( like an empathy virus which actively releases xxunk into the vicinity , infects nearby people , picks up bits of their memory , then departs for the original host -- which is , as you can probably tell , a xxunk on the impractical side ) you ca n't justify being able to determine a specific detail like someone 's password just by \" listening to the things you did n't say \" . xxmaj nor can you acquire the ability to speak a language without understanding what you 're saying -- the virus ca n't infect your vocal cords and translate for you on the fly , because a virus ca n't * xxunk xxmaj to give you the power to speak xxmaj chinese , such a learning virus would have to modify your brain . xxmaj it would have to xxunk the knowledge among neurons , and once it 's in there , it 's * yours * -- you certainly understand what you 're saying , because you have to . xxmaj to use your own brain to perform a task , you must understand that task ( for the most part ) . xxmaj unless , of course , they movie is suggesting that the virus was deliberately designed to put in place some bizarre multiple - personality mental schism where some sub - personae of yours functions as a built - in , one - way translator . \n",
              " \n",
              "  xxmaj the mélange of languages spoken by the characters is decent enough , although nowhere near remarkable enough to warrant all the love other reviewers have given . xxmaj what 's more , all the multicultural insertions in the world ca n't make up for a simple , frustrating fact : xxmaj the dialog stinks ! xxmaj it 's slow , it 's plodding , and it 's unnatural . xxmaj again , i 'm sure adherents have convinced themselves that the dull strangeness is simply the result of an inspired genius creating a truly futuristic ( and therefore subjected to linguistic drift ) form of speech . i disagree . xxmaj good dialog is good dialog in any era -- and the same goes for tripe . \n",
              " \n",
              "  xxmaj lastly , i 'll revisit the central concept of the movie -- the banning of sex with yourself . xxmaj widespread cloning is a nice , classic sci - fi topic . xxmaj so is global warming leading to ecological devastation ( which xxmaj code 46 also incorporates ) . xxmaj unfortunately , the two do n't go together ! xxmaj if you have an ecological disaster cutting down severely on the available living area , you do n't run around cloning people ! xxmaj you have population problems enough as it is -- you do n't add to them by cranking out re - issues . xxmaj regular , old - fashioned sex - and - birth provides all the population you need , and cloning of any sort would be ruthlessly suppressed . \n",
              " \n",
              "  xxmaj to be fair , the movie was n't all bad . xxmaj it had some nice cinematography . xxmaj perhaps if i had watched it muted , i could 've enjoyed it .,xxbos xxmaj this movie was s xxrep 7 o sl xxrep 4 o w ! ! ! xxmaj and everything in it was bland , the acting , the plot , etc . xxmaj it was such a disappointment , since the description looked so good ! xxmaj do not be fooled ! xxmaj this movie is not worth the time it takes to watch it ! ! !,xxbos xxmaj based on a xxmaj edgar xxmaj rice xxmaj burroughs novel , xxup at xxup the xxup earth xxup 's xxup core provides little more than means to escape and give your brain a rest . a xxmaj victorian scientist xxmaj dr. xxmaj abner xxunk xxmaj xxunk a giant burrowing machine , which he and his xxmaj american xxunk xxunk to corkscrew their way deep into the earth to explore what mysteries it may hold . xxmaj they soon discover a lost world of subhuman creatures having conflict with prehistoric monsters . \n",
              " \n",
              "  xxmaj cushing comes across as an absent minded professor to the point of being annoying . xxmaj instead of being a bold adventurer , he comes across effeminate . xxmaj on the other hand mcclure overacted enough to make himself also laughable . xxmaj caroline xxmaj munro plays the pretty xxmaj princess xxmaj dia that refuses to leave her world near the center of the earth . xxmaj also in the cast are : xxmaj godfrey xxmaj james , xxmaj cy xxmaj grant and xxmaj michael xxmaj crane .\n",
              "y: CategoryList\n",
              "neg,neg,neg,neg,neg\n",
              "Path: /root/.fastai/data/imdb;\n",
              "\n",
              "Test: None, model=SequentialRNN(\n",
              "  (0): MultiBatchEncoder(\n",
              "    (module): AWD_LSTM(\n",
              "      (encoder): Embedding(60000, 400, padding_idx=1)\n",
              "      (encoder_dp): EmbeddingDropout(\n",
              "        (emb): Embedding(60000, 400, padding_idx=1)\n",
              "      )\n",
              "      (rnns): ModuleList(\n",
              "        (0): WeightDropout(\n",
              "          (module): LSTM(400, 1152, batch_first=True)\n",
              "        )\n",
              "        (1): WeightDropout(\n",
              "          (module): LSTM(1152, 1152, batch_first=True)\n",
              "        )\n",
              "        (2): WeightDropout(\n",
              "          (module): LSTM(1152, 400, batch_first=True)\n",
              "        )\n",
              "      )\n",
              "      (input_dp): RNNDropout()\n",
              "      (hidden_dps): ModuleList(\n",
              "        (0): RNNDropout()\n",
              "        (1): RNNDropout()\n",
              "        (2): RNNDropout()\n",
              "      )\n",
              "    )\n",
              "  )\n",
              "  (1): PoolingLinearClassifier(\n",
              "    (layers): Sequential(\n",
              "      (0): BatchNorm1d(1200, eps=1e-05, momentum=0.1, affine=True, track_running_stats=True)\n",
              "      (1): Dropout(p=0.2, inplace=False)\n",
              "      (2): Linear(in_features=1200, out_features=50, bias=True)\n",
              "      (3): ReLU(inplace=True)\n",
              "      (4): BatchNorm1d(50, eps=1e-05, momentum=0.1, affine=True, track_running_stats=True)\n",
              "      (5): Dropout(p=0.1, inplace=False)\n",
              "      (6): Linear(in_features=50, out_features=2, bias=True)\n",
              "    )\n",
              "  )\n",
              "), opt_func=functools.partial(<class 'torch.optim.adam.Adam'>, betas=(0.9, 0.99)), loss_func=FlattenedLoss of CrossEntropyLoss(), metrics=[<function accuracy at 0x7f21304462f0>], true_wd=True, bn_wd=True, wd=0.01, train_bn=True, path=PosixPath('/root/.fastai/data/imdb'), model_dir='models', callback_fns=[functools.partial(<class 'fastai.basic_train.Recorder'>, add_time=True, silent=False)], callbacks=[RNNTrainer\n",
              "learn: RNNLearner(data=TextClasDataBunch;\n",
              "\n",
              "Train: LabelList (25000 items)\n",
              "x: TextList\n",
              "xxbos xxmaj this must be one of the most overrated xxmaj spanish films in history . xxmaj its lack of subtlety and complexity and its total political correction make it really childish , with only good / bad characters . xxmaj the world is just not like this , and good movies show complex characters with opposite impulses , dilemmas , etc . xxmaj however , what i xxup hate most about this film is xxmaj xxunk 's friend 's father . xxmaj the director tries to teach us a good lesson : tattoo artists with shaved heads are not always bad guys , in fact they can be better than the average looking dad ( wow , this is like ... philosophy , or something ) . xxmaj thank you , xxmaj xxunk . i 'll propose you for the xxmaj nobel prize of literature .,xxbos i read about this movie in a magazine and i was intrigued . a woman , who one day sees herself drive past in her own car . xxmaj well , i thought , this could be interesting ... \n",
              " \n",
              "  ... but it is n't . xxmaj first , the title . xxmaj the xxmaj broken ? xxmaj the xxmaj broken ... what ? xxmaj what is broken ? xxmaj the ... oh , wait ... i get it , the title itself is \" broken \" ! xxup wow , clever ! xxmaj unfortunately , this is virtually the only thing going for it . \n",
              " \n",
              "  xxmaj the premise is not that bad , but i think xxmaj kiefer xxmaj xxunk did much better in ' xxmaj mirrors ' . a cross between xxmaj invasion of the xxmaj body xxmaj snatchers and xxmaj mirrors , and a rather mediocre one at that . a more suited title would be ' xxmaj the xxmaj boring ' , since it draws out every single scene for bloody ages . xxmaj or maybe ' xxmaj the xxmaj confusing ' since it does n't explain anything at all , not in the narrative nor in the story itself , only some vague idea about evil copies and somesuch , dotted with cheap scares and scenes used to death , but nothing tangible . xxmaj it 's just messed up . \n",
              " \n",
              "  xxmaj on the other hand , the acting and the special effects are quite good , but then again , it 's not a difficult role to act . \n",
              " \n",
              "  xxmaj after watching the movie twice , i still feel unsatisfied , a little confused maybe , and not in the xxup e. xxup a. xxmaj poe or xxmaj stephen xxmaj king kind of way . xxmaj do yourself a favor , and do n't watch this one . xxmaj simply put , there are better thrillers out there .,xxbos i first saw this when i was around 7 . i remembered what i believed to be a vague outline of what took place . xxmaj turns out now , 15 years later , that i remembered everything with great accuracy because it seems the writers never got beyond making an outline to the story . xxmaj there is no plot to this movie / cartoon . xxmaj there is no character development , no back story , no character arcs , nothing . xxmaj the good guys do things because they are good , while the bad guys do things solely because they are bad . xxmaj one unintentionally hilarious part is when someone who you would think to be important dies and nobody cares in the least . xxmaj they just shrug their shoulders and move on . xxmaj there 's barely any dialogue either . xxmaj if you cut out the fight scenes and the running scenes , you lose 70 % of the movie . \n",
              " \n",
              "  xxmaj watch this because you want to see some good animation and for no other reason . xxmaj or if you like to look at scantily clad hot cartoon chicks ( or scantily clad hot cartoon dudes ) .,xxbos \" xxmaj igor and the xxmaj lunatics \" is a totally inept and amateurish attempt at a crazy - hippie - cult - killing - spree horror movie . xxmaj apparently even nearly twenty years later , xxmaj charles xxmaj manson was still inspiring xxunk but incompetent trash - filmmakers . xxmaj this is a typical xxmaj troma production , meaning in other words , there 's a lot of boring and totally irrelevant padding footage to accompany the nonsensical plot . xxmaj there 's a bit of random gore and gratuitous nudity on display  which is n't bad  but it 's all so very pointless and ugly that it becomes frustrating to look at . \" xxmaj igor and the xxmaj lunatics \" is so desperate that it 's even using a lot of the footage twice , like the circle saw killing for example . xxmaj the incoherent plot tries to tell the story of a hippie cult run by the drug - addicted and xxmaj charlie xxmaj manson wannabe xxmaj paul . xxmaj one of xxmaj paul 's lower ranked disciples , named xxmaj igor , becomes a little bit too obsessed with the xxmaj bible stories and drug orgies and gradually causes the entire cult to descent further into criminal insanity . xxmaj just to illustrate through a little example exactly how crazy xxmaj igor is : he tears the heart straight out of the chest of a really sexy black hitch - hiker girl ! xxmaj there 's an annoying synthesizer soundtrack and some truly embarrassingly lame pseudo - artistic camera tricks , like slow - motion footage and lurid dream sequences . xxmaj maybe there 's one sequence that more or less qualifies as worthwhile for trash fanatics and that ' is when a poor girl is cut in half with a machete . xxmaj for no particular reason , the camera holds the shot of the blade in the bloodied stomach for fifteen whole seconds .,xxbos i 'll keep this short ; thanks to xxmaj greg for helping me to put this succinctly : xxmaj captivity is about a guy who drugs a girl 's drink , imprisons and tortures her , then poses as a captive to have sex with her . xxmaj that is the single twist and punchline of the film . xxmaj it 's torture as slow motion date rape . xxmaj and , it 's not even a good movie . xxmaj it 's not so bad it 's good ; it 's just bad . \n",
              " \n",
              "  xxmaj it should also be mentioned that among critics , there is a \" spoiler code \" that they dare not break , even though some were tempted to on this one because it is so vile . xxmaj why xxup no xxup one had the cojones to step up and say , \" this is garbage , and this is why , \" is beyond me . \n",
              " \n",
              "  xxmaj do n't give your money to these poop - peddlers .\n",
              "y: CategoryList\n",
              "neg,neg,neg,neg,neg\n",
              "Path: /root/.fastai/data/imdb;\n",
              "\n",
              "Valid: LabelList (25000 items)\n",
              "x: TextList\n",
              "xxbos i just caught this on xxmaj showtime ... e xxrep 7 w , not even fun in a bad movie kind of way . xxmaj one of the lamest monster flicks i 've ever seen . xxmaj plus the xxup tv reporter in the movie was that annoying xxmaj jerri from a past season of xxmaj survivor . xxmaj the only amusing thing was that the \" secret base \" was the house from xxmaj fantasy xxmaj island ( and a million other movies and xxup tv shows ; the place is located in the xxup l.a. area ) . i fully expected xxmaj mr xxmaj roarke and xxmaj tattoo to come out and greet the visitors . xxmaj if xxmaj tattoo had gotten eaten by the snake , i might have given this movie a 2 , but oh well . xxmaj watching people stand there and scream for five minutes while the xxmaj komodo or the cobra loomed over them instead of making a run for it was pretty funny , especially because you could really tell that they were just screaming at an empty spot where the computer animators would later paint in the monster . i nearly fell out of my chair , though , when in a flashback scene they brought in either the cobra or the komodo - then normal size - in some indestructible solid steel container with some air holes drilled into it . xxmaj would n't a wire cage have sufficed ? xxup lol ! xxmaj guess they could n't afford to rent a real komodo and cobra . i have to remember i rent xxmaj showtime for their series and not their movies .,xxbos xxmaj barney teaches kids nothing ! ! ! xxmaj here are some 3 reasons why you should n't let you kids watch this show : 1 . xxmaj barney teaches kids that we should think xxup exactly like each other to get along . \n",
              " \n",
              "  2 . xxmaj barney teaches kids that you should n't be sad , and if you feel sad , xxup eat xxup lots xxup of xxup ice xxup cream ! ! ! 3 . xxmaj if you make people pity you they will give you what you want when you want it . \n",
              " \n",
              "  xxmaj barney is just a xxmaj fat doll who told kids strangers are your friends . xxmaj he should xxup not be trusted . xxmaj and he is high every day ! ! ! , he constantly xxup giggles xxrep 4 ! xxup do xxup not xxup watch xxup this xxup show xxrep 11 ! xxmaj your kids will thank you when there older,xxbos xxmaj there is nothing worse than science fiction crafted by folks who do n't have a feel for it . xxmaj grasping at a concept which would n't be so terrible by itself ( a future where cloning is common enough that it is necessary to make it a crime for you to breed with someone too close to you genetically ) the screenwriter proceeded to allow his ill - suited imagination to run wild . \n",
              " \n",
              "  xxmaj when xxmaj tim xxmaj robbins ' character was able to guess a security guard 's computer password simply by getting her to tell him one thing about herself , i knew i was in for trouble . xxmaj this ability was later revealed to be due to xxmaj robbins having taken an \" empathy virus \" , viruses being used to grant instant ( or nearly instant ) skill upgrades to their users . xxmaj robbins ' love interest complained about her own experience with such a virus -- a xxmaj mandarin xxmaj chinese language virus , which allowed her to speak xxmaj chinese , but as she complained , \" she could n't understand what she was saying . \" xxmaj okay , first off , empathy , no matter how intense , is n't xxup esp . xxmaj without incorporating some sort of true mind - reading aspect ( like an empathy virus which actively releases xxunk into the vicinity , infects nearby people , picks up bits of their memory , then departs for the original host -- which is , as you can probably tell , a xxunk on the impractical side ) you ca n't justify being able to determine a specific detail like someone 's password just by \" listening to the things you did n't say \" . xxmaj nor can you acquire the ability to speak a language without understanding what you 're saying -- the virus ca n't infect your vocal cords and translate for you on the fly , because a virus ca n't * xxunk xxmaj to give you the power to speak xxmaj chinese , such a learning virus would have to modify your brain . xxmaj it would have to xxunk the knowledge among neurons , and once it 's in there , it 's * yours * -- you certainly understand what you 're saying , because you have to . xxmaj to use your own brain to perform a task , you must understand that task ( for the most part ) . xxmaj unless , of course , they movie is suggesting that the virus was deliberately designed to put in place some bizarre multiple - personality mental schism where some sub - personae of yours functions as a built - in , one - way translator . \n",
              " \n",
              "  xxmaj the mélange of languages spoken by the characters is decent enough , although nowhere near remarkable enough to warrant all the love other reviewers have given . xxmaj what 's more , all the multicultural insertions in the world ca n't make up for a simple , frustrating fact : xxmaj the dialog stinks ! xxmaj it 's slow , it 's plodding , and it 's unnatural . xxmaj again , i 'm sure adherents have convinced themselves that the dull strangeness is simply the result of an inspired genius creating a truly futuristic ( and therefore subjected to linguistic drift ) form of speech . i disagree . xxmaj good dialog is good dialog in any era -- and the same goes for tripe . \n",
              " \n",
              "  xxmaj lastly , i 'll revisit the central concept of the movie -- the banning of sex with yourself . xxmaj widespread cloning is a nice , classic sci - fi topic . xxmaj so is global warming leading to ecological devastation ( which xxmaj code 46 also incorporates ) . xxmaj unfortunately , the two do n't go together ! xxmaj if you have an ecological disaster cutting down severely on the available living area , you do n't run around cloning people ! xxmaj you have population problems enough as it is -- you do n't add to them by cranking out re - issues . xxmaj regular , old - fashioned sex - and - birth provides all the population you need , and cloning of any sort would be ruthlessly suppressed . \n",
              " \n",
              "  xxmaj to be fair , the movie was n't all bad . xxmaj it had some nice cinematography . xxmaj perhaps if i had watched it muted , i could 've enjoyed it .,xxbos xxmaj this movie was s xxrep 7 o sl xxrep 4 o w ! ! ! xxmaj and everything in it was bland , the acting , the plot , etc . xxmaj it was such a disappointment , since the description looked so good ! xxmaj do not be fooled ! xxmaj this movie is not worth the time it takes to watch it ! ! !,xxbos xxmaj based on a xxmaj edgar xxmaj rice xxmaj burroughs novel , xxup at xxup the xxup earth xxup 's xxup core provides little more than means to escape and give your brain a rest . a xxmaj victorian scientist xxmaj dr. xxmaj abner xxunk xxmaj xxunk a giant burrowing machine , which he and his xxmaj american xxunk xxunk to corkscrew their way deep into the earth to explore what mysteries it may hold . xxmaj they soon discover a lost world of subhuman creatures having conflict with prehistoric monsters . \n",
              " \n",
              "  xxmaj cushing comes across as an absent minded professor to the point of being annoying . xxmaj instead of being a bold adventurer , he comes across effeminate . xxmaj on the other hand mcclure overacted enough to make himself also laughable . xxmaj caroline xxmaj munro plays the pretty xxmaj princess xxmaj dia that refuses to leave her world near the center of the earth . xxmaj also in the cast are : xxmaj godfrey xxmaj james , xxmaj cy xxmaj grant and xxmaj michael xxmaj crane .\n",
              "y: CategoryList\n",
              "neg,neg,neg,neg,neg\n",
              "Path: /root/.fastai/data/imdb;\n",
              "\n",
              "Test: None, model=SequentialRNN(\n",
              "  (0): MultiBatchEncoder(\n",
              "    (module): AWD_LSTM(\n",
              "      (encoder): Embedding(60000, 400, padding_idx=1)\n",
              "      (encoder_dp): EmbeddingDropout(\n",
              "        (emb): Embedding(60000, 400, padding_idx=1)\n",
              "      )\n",
              "      (rnns): ModuleList(\n",
              "        (0): WeightDropout(\n",
              "          (module): LSTM(400, 1152, batch_first=True)\n",
              "        )\n",
              "        (1): WeightDropout(\n",
              "          (module): LSTM(1152, 1152, batch_first=True)\n",
              "        )\n",
              "        (2): WeightDropout(\n",
              "          (module): LSTM(1152, 400, batch_first=True)\n",
              "        )\n",
              "      )\n",
              "      (input_dp): RNNDropout()\n",
              "      (hidden_dps): ModuleList(\n",
              "        (0): RNNDropout()\n",
              "        (1): RNNDropout()\n",
              "        (2): RNNDropout()\n",
              "      )\n",
              "    )\n",
              "  )\n",
              "  (1): PoolingLinearClassifier(\n",
              "    (layers): Sequential(\n",
              "      (0): BatchNorm1d(1200, eps=1e-05, momentum=0.1, affine=True, track_running_stats=True)\n",
              "      (1): Dropout(p=0.2, inplace=False)\n",
              "      (2): Linear(in_features=1200, out_features=50, bias=True)\n",
              "      (3): ReLU(inplace=True)\n",
              "      (4): BatchNorm1d(50, eps=1e-05, momentum=0.1, affine=True, track_running_stats=True)\n",
              "      (5): Dropout(p=0.1, inplace=False)\n",
              "      (6): Linear(in_features=50, out_features=2, bias=True)\n",
              "    )\n",
              "  )\n",
              "), opt_func=functools.partial(<class 'torch.optim.adam.Adam'>, betas=(0.9, 0.99)), loss_func=FlattenedLoss of CrossEntropyLoss(), metrics=[<function accuracy at 0x7f21304462f0>], true_wd=True, bn_wd=True, wd=0.01, train_bn=True, path=PosixPath('/root/.fastai/data/imdb'), model_dir='models', callback_fns=[functools.partial(<class 'fastai.basic_train.Recorder'>, add_time=True, silent=False)], callbacks=[...], layer_groups=[Sequential(\n",
              "  (0): Embedding(60000, 400, padding_idx=1)\n",
              "  (1): EmbeddingDropout(\n",
              "    (emb): Embedding(60000, 400, padding_idx=1)\n",
              "  )\n",
              "), Sequential(\n",
              "  (0): WeightDropout(\n",
              "    (module): LSTM(400, 1152, batch_first=True)\n",
              "  )\n",
              "  (1): RNNDropout()\n",
              "), Sequential(\n",
              "  (0): WeightDropout(\n",
              "    (module): LSTM(1152, 1152, batch_first=True)\n",
              "  )\n",
              "  (1): RNNDropout()\n",
              "), Sequential(\n",
              "  (0): WeightDropout(\n",
              "    (module): LSTM(1152, 400, batch_first=True)\n",
              "  )\n",
              "  (1): RNNDropout()\n",
              "), Sequential(\n",
              "  (0): PoolingLinearClassifier(\n",
              "    (layers): Sequential(\n",
              "      (0): BatchNorm1d(1200, eps=1e-05, momentum=0.1, affine=True, track_running_stats=True)\n",
              "      (1): Dropout(p=0.2, inplace=False)\n",
              "      (2): Linear(in_features=1200, out_features=50, bias=True)\n",
              "      (3): ReLU(inplace=True)\n",
              "      (4): BatchNorm1d(50, eps=1e-05, momentum=0.1, affine=True, track_running_stats=True)\n",
              "      (5): Dropout(p=0.1, inplace=False)\n",
              "      (6): Linear(in_features=50, out_features=2, bias=True)\n",
              "    )\n",
              "  )\n",
              ")], add_time=True, silent=False, cb_fns_registered=True)\n",
              "alpha: 2.0\n",
              "beta: 1.0], layer_groups=[Sequential(\n",
              "  (0): Embedding(60000, 400, padding_idx=1)\n",
              "  (1): EmbeddingDropout(\n",
              "    (emb): Embedding(60000, 400, padding_idx=1)\n",
              "  )\n",
              "), Sequential(\n",
              "  (0): WeightDropout(\n",
              "    (module): LSTM(400, 1152, batch_first=True)\n",
              "  )\n",
              "  (1): RNNDropout()\n",
              "), Sequential(\n",
              "  (0): WeightDropout(\n",
              "    (module): LSTM(1152, 1152, batch_first=True)\n",
              "  )\n",
              "  (1): RNNDropout()\n",
              "), Sequential(\n",
              "  (0): WeightDropout(\n",
              "    (module): LSTM(1152, 400, batch_first=True)\n",
              "  )\n",
              "  (1): RNNDropout()\n",
              "), Sequential(\n",
              "  (0): PoolingLinearClassifier(\n",
              "    (layers): Sequential(\n",
              "      (0): BatchNorm1d(1200, eps=1e-05, momentum=0.1, affine=True, track_running_stats=True)\n",
              "      (1): Dropout(p=0.2, inplace=False)\n",
              "      (2): Linear(in_features=1200, out_features=50, bias=True)\n",
              "      (3): ReLU(inplace=True)\n",
              "      (4): BatchNorm1d(50, eps=1e-05, momentum=0.1, affine=True, track_running_stats=True)\n",
              "      (5): Dropout(p=0.1, inplace=False)\n",
              "      (6): Linear(in_features=50, out_features=2, bias=True)\n",
              "    )\n",
              "  )\n",
              ")], add_time=True, silent=False, cb_fns_registered=True)"
            ]
          },
          "metadata": {
            "tags": []
          },
          "execution_count": 49
        }
      ]
    },
    {
      "cell_type": "code",
      "metadata": {
        "id": "NSMmvnrMZJty",
        "colab_type": "code",
        "outputId": "8772f25e-1bc5-4f65-e79a-03e7439fdbf3",
        "colab": {
          "base_uri": "https://localhost:8080/",
          "height": 77
        }
      },
      "source": [
        "learn.freeze_to(-2)\n",
        "learn.fit_one_cycle(1, slice(6.92e-04/(2.6**4),6.92e-04), moms=(0.8,0.7))"
      ],
      "execution_count": 0,
      "outputs": [
        {
          "output_type": "display_data",
          "data": {
            "text/html": [
              "<table border=\"1\" class=\"dataframe\">\n",
              "  <thead>\n",
              "    <tr style=\"text-align: left;\">\n",
              "      <th>epoch</th>\n",
              "      <th>train_loss</th>\n",
              "      <th>valid_loss</th>\n",
              "      <th>accuracy</th>\n",
              "      <th>time</th>\n",
              "    </tr>\n",
              "  </thead>\n",
              "  <tbody>\n",
              "    <tr>\n",
              "      <td>0</td>\n",
              "      <td>0.365659</td>\n",
              "      <td>0.283451</td>\n",
              "      <td>0.883600</td>\n",
              "      <td>10:42</td>\n",
              "    </tr>\n",
              "  </tbody>\n",
              "</table>"
            ],
            "text/plain": [
              "<IPython.core.display.HTML object>"
            ]
          },
          "metadata": {
            "tags": []
          }
        }
      ]
    },
    {
      "cell_type": "code",
      "metadata": {
        "id": "Aa3fIKjHZpDI",
        "colab_type": "code",
        "colab": {}
      },
      "source": [
        "learn.save('second')"
      ],
      "execution_count": 0,
      "outputs": []
    },
    {
      "cell_type": "code",
      "metadata": {
        "id": "EsHCSboDaE05",
        "colab_type": "code",
        "outputId": "35a2af06-e937-45f5-fd4b-89345528944c",
        "colab": {
          "base_uri": "https://localhost:8080/",
          "height": 34
        }
      },
      "source": [
        "learn.predict(\"I really loved that movie, it was awesome!\")"
      ],
      "execution_count": 0,
      "outputs": [
        {
          "output_type": "execute_result",
          "data": {
            "text/plain": [
              "(Category pos, tensor(1), tensor([2.8555e-05, 9.9997e-01]))"
            ]
          },
          "metadata": {
            "tags": []
          },
          "execution_count": 58
        }
      ]
    },
    {
      "cell_type": "code",
      "metadata": {
        "id": "DBCiev0ee34t",
        "colab_type": "code",
        "colab": {}
      },
      "source": [
        ""
      ],
      "execution_count": 0,
      "outputs": []
    }
  ]
}